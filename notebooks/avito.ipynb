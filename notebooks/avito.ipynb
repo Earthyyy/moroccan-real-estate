{
 "cells": [
  {
   "cell_type": "markdown",
   "metadata": {},
   "source": [
    "# Avito Data\n",
    "\n",
    "This file is for inspecting and exploring data extracted from Avito."
   ]
  },
  {
   "cell_type": "code",
   "execution_count": 5,
   "metadata": {},
   "outputs": [],
   "source": [
    "import pandas as pd"
   ]
  },
  {
   "cell_type": "code",
   "execution_count": 6,
   "metadata": {},
   "outputs": [],
   "source": [
    "avito_df = pd.read_json(\"../data/raw/avito/avito_2024-11-14.json\")"
   ]
  },
  {
   "cell_type": "code",
   "execution_count": 7,
   "metadata": {},
   "outputs": [
    {
     "data": {
      "text/html": [
       "<div>\n",
       "<style scoped>\n",
       "    .dataframe tbody tr th:only-of-type {\n",
       "        vertical-align: middle;\n",
       "    }\n",
       "\n",
       "    .dataframe tbody tr th {\n",
       "        vertical-align: top;\n",
       "    }\n",
       "\n",
       "    .dataframe thead th {\n",
       "        text-align: right;\n",
       "    }\n",
       "</style>\n",
       "<table border=\"1\" class=\"dataframe\">\n",
       "  <thead>\n",
       "    <tr style=\"text-align: right;\">\n",
       "      <th></th>\n",
       "      <th>url</th>\n",
       "      <th>n_bedrooms</th>\n",
       "      <th>n_bathrooms</th>\n",
       "      <th>total_area</th>\n",
       "      <th>title</th>\n",
       "      <th>price</th>\n",
       "      <th>city</th>\n",
       "      <th>time</th>\n",
       "      <th>user</th>\n",
       "      <th>attributes</th>\n",
       "      <th>equipments</th>\n",
       "      <th>date_time</th>\n",
       "      <th>year</th>\n",
       "      <th>month</th>\n",
       "    </tr>\n",
       "  </thead>\n",
       "  <tbody>\n",
       "    <tr>\n",
       "      <th>0</th>\n",
       "      <td>https://www.avito.ma/fr/haut_founty/appartemen...</td>\n",
       "      <td>2</td>\n",
       "      <td>2.0</td>\n",
       "      <td>None</td>\n",
       "      <td>Appartement à vendre 81 m² quartier Haut Founty</td>\n",
       "      <td>Prix non spécifié</td>\n",
       "      <td>Agadir</td>\n",
       "      <td>il y a 7 minutes</td>\n",
       "      <td>AM IMMOBILIER AGADIR</td>\n",
       "      <td>{'Type': 'Appartements, à vendre', 'Secteur': ...</td>\n",
       "      <td>[]</td>\n",
       "      <td>2024-11-14 15:53:00</td>\n",
       "      <td>2024</td>\n",
       "      <td>11</td>\n",
       "    </tr>\n",
       "    <tr>\n",
       "      <th>1</th>\n",
       "      <td>https://www.avito.ma/fr/ahlane/appartements/Ap...</td>\n",
       "      <td>3</td>\n",
       "      <td>2.0</td>\n",
       "      <td>101 m²</td>\n",
       "      <td>Appartement à vendre 101 m² à Tanger</td>\n",
       "      <td>135 000 DH</td>\n",
       "      <td>Tanger</td>\n",
       "      <td>il y a 19 minutes</td>\n",
       "      <td>Moha</td>\n",
       "      <td>{'Type': 'Appartements, à vendre', 'Secteur': ...</td>\n",
       "      <td>[Ascenseur, Balcon, Climatisation, Cuisine équ...</td>\n",
       "      <td>2024-11-14 15:41:00</td>\n",
       "      <td>2024</td>\n",
       "      <td>11</td>\n",
       "    </tr>\n",
       "    <tr>\n",
       "      <th>2</th>\n",
       "      <td>https://www.avito.ma/fr/autre_secteur/appartem...</td>\n",
       "      <td>2</td>\n",
       "      <td>2.0</td>\n",
       "      <td>90 m²</td>\n",
       "      <td>Bel appartement</td>\n",
       "      <td>540 000 DH</td>\n",
       "      <td>Fès</td>\n",
       "      <td>il y a 19 minutes</td>\n",
       "      <td>Med</td>\n",
       "      <td>{'Type': 'Appartements, à vendre', 'Secteur': ...</td>\n",
       "      <td>[Ascenseur, Balcon, Chauffage, Climatisation, ...</td>\n",
       "      <td>2024-11-14 15:41:00</td>\n",
       "      <td>2024</td>\n",
       "      <td>11</td>\n",
       "    </tr>\n",
       "    <tr>\n",
       "      <th>3</th>\n",
       "      <td>https://www.avito.ma/fr/riad_toulal/appartemen...</td>\n",
       "      <td>2</td>\n",
       "      <td>2.0</td>\n",
       "      <td>58 m²</td>\n",
       "      <td>Appartement à vendre 58 m² à Meknès</td>\n",
       "      <td>290 000 DH</td>\n",
       "      <td>Meknès</td>\n",
       "      <td>il y a 21 minutes</td>\n",
       "      <td>ORBIS Promotion</td>\n",
       "      <td>{'Type': 'Appartements, à vendre', 'Secteur': ...</td>\n",
       "      <td>[Ascenseur, Balcon, Chauffage, Climatisation, ...</td>\n",
       "      <td>2024-11-14 15:39:00</td>\n",
       "      <td>2024</td>\n",
       "      <td>11</td>\n",
       "    </tr>\n",
       "    <tr>\n",
       "      <th>4</th>\n",
       "      <td>https://www.avito.ma/fr/al_boustane/appartemen...</td>\n",
       "      <td>2</td>\n",
       "      <td>1.0</td>\n",
       "      <td>100 m²</td>\n",
       "      <td>Appartement Rdc dans R plus 2</td>\n",
       "      <td>520 000 DH</td>\n",
       "      <td>El Jadida</td>\n",
       "      <td>il y a 17 minutes</td>\n",
       "      <td>Tic House</td>\n",
       "      <td>{'Type': 'Appartements, à vendre', 'Secteur': ...</td>\n",
       "      <td>[Cuisine équipée]</td>\n",
       "      <td>2024-11-14 15:43:00</td>\n",
       "      <td>2024</td>\n",
       "      <td>11</td>\n",
       "    </tr>\n",
       "  </tbody>\n",
       "</table>\n",
       "</div>"
      ],
      "text/plain": [
       "                                                 url  n_bedrooms  n_bathrooms  \\\n",
       "0  https://www.avito.ma/fr/haut_founty/appartemen...           2          2.0   \n",
       "1  https://www.avito.ma/fr/ahlane/appartements/Ap...           3          2.0   \n",
       "2  https://www.avito.ma/fr/autre_secteur/appartem...           2          2.0   \n",
       "3  https://www.avito.ma/fr/riad_toulal/appartemen...           2          2.0   \n",
       "4  https://www.avito.ma/fr/al_boustane/appartemen...           2          1.0   \n",
       "\n",
       "  total_area                                            title  \\\n",
       "0       None  Appartement à vendre 81 m² quartier Haut Founty   \n",
       "1     101 m²             Appartement à vendre 101 m² à Tanger   \n",
       "2      90 m²                                 Bel appartement    \n",
       "3      58 m²              Appartement à vendre 58 m² à Meknès   \n",
       "4     100 m²                    Appartement Rdc dans R plus 2   \n",
       "\n",
       "               price       city               time                  user  \\\n",
       "0  Prix non spécifié     Agadir   il y a 7 minutes  AM IMMOBILIER AGADIR   \n",
       "1         135 000 DH     Tanger  il y a 19 minutes                  Moha   \n",
       "2         540 000 DH        Fès  il y a 19 minutes                   Med   \n",
       "3         290 000 DH     Meknès  il y a 21 minutes       ORBIS Promotion   \n",
       "4         520 000 DH  El Jadida  il y a 17 minutes             Tic House   \n",
       "\n",
       "                                          attributes  \\\n",
       "0  {'Type': 'Appartements, à vendre', 'Secteur': ...   \n",
       "1  {'Type': 'Appartements, à vendre', 'Secteur': ...   \n",
       "2  {'Type': 'Appartements, à vendre', 'Secteur': ...   \n",
       "3  {'Type': 'Appartements, à vendre', 'Secteur': ...   \n",
       "4  {'Type': 'Appartements, à vendre', 'Secteur': ...   \n",
       "\n",
       "                                          equipments           date_time  \\\n",
       "0                                                 [] 2024-11-14 15:53:00   \n",
       "1  [Ascenseur, Balcon, Climatisation, Cuisine équ... 2024-11-14 15:41:00   \n",
       "2  [Ascenseur, Balcon, Chauffage, Climatisation, ... 2024-11-14 15:41:00   \n",
       "3  [Ascenseur, Balcon, Chauffage, Climatisation, ... 2024-11-14 15:39:00   \n",
       "4                                  [Cuisine équipée] 2024-11-14 15:43:00   \n",
       "\n",
       "   year  month  \n",
       "0  2024     11  \n",
       "1  2024     11  \n",
       "2  2024     11  \n",
       "3  2024     11  \n",
       "4  2024     11  "
      ]
     },
     "execution_count": 7,
     "metadata": {},
     "output_type": "execute_result"
    }
   ],
   "source": [
    "avito_df.head()"
   ]
  },
  {
   "cell_type": "code",
   "execution_count": 8,
   "metadata": {},
   "outputs": [
    {
     "data": {
      "text/plain": [
       "Index(['url', 'n_bedrooms', 'n_bathrooms', 'total_area', 'title', 'price',\n",
       "       'city', 'time', 'user', 'attributes', 'equipments', 'date_time', 'year',\n",
       "       'month'],\n",
       "      dtype='object')"
      ]
     },
     "execution_count": 8,
     "metadata": {},
     "output_type": "execute_result"
    }
   ],
   "source": [
    "avito_df.columns"
   ]
  },
  {
   "cell_type": "code",
   "execution_count": 9,
   "metadata": {},
   "outputs": [
    {
     "data": {
      "text/plain": [
       "url                    object\n",
       "n_bedrooms              int64\n",
       "n_bathrooms           float64\n",
       "total_area             object\n",
       "title                  object\n",
       "price                  object\n",
       "city                   object\n",
       "time                   object\n",
       "user                   object\n",
       "attributes             object\n",
       "equipments             object\n",
       "date_time      datetime64[ns]\n",
       "year                    int64\n",
       "month                   int64\n",
       "dtype: object"
      ]
     },
     "execution_count": 9,
     "metadata": {},
     "output_type": "execute_result"
    }
   ],
   "source": [
    "avito_df.dtypes"
   ]
  },
  {
   "cell_type": "code",
   "execution_count": 37,
   "metadata": {},
   "outputs": [
    {
     "data": {
      "text/plain": [
       "n_bedrooms\n",
       "2    164\n",
       "3    113\n",
       "1     30\n",
       "4     10\n",
       "Name: count, dtype: int64"
      ]
     },
     "execution_count": 37,
     "metadata": {},
     "output_type": "execute_result"
    }
   ],
   "source": [
    "avito_df[\"n_bedrooms\"].value_counts()"
   ]
  },
  {
   "cell_type": "markdown",
   "metadata": {},
   "source": [
    "The `n_bedrooms` column is an integer, we might need to control the input to prevent outliers from occuring.\n",
    "We can think of a reasonable range for the number of bedrooms in a house, and remove any rows that fall outside of that range."
   ]
  },
  {
   "cell_type": "code",
   "execution_count": 11,
   "metadata": {},
   "outputs": [
    {
     "data": {
      "text/plain": [
       "n_bathrooms\n",
       "2.0    160\n",
       "1.0    129\n",
       "3.0     19\n",
       "0.0      2\n",
       "4.0      1\n",
       "5.0      1\n",
       "Name: count, dtype: int64"
      ]
     },
     "execution_count": 11,
     "metadata": {},
     "output_type": "execute_result"
    }
   ],
   "source": [
    "avito_df[\"n_bathrooms\"].value_counts()"
   ]
  },
  {
   "cell_type": "markdown",
   "metadata": {},
   "source": [
    "`n_bathrooms` is an optional column and can be null, we also notice a value of 7+, and the rest being integers."
   ]
  },
  {
   "cell_type": "code",
   "execution_count": 12,
   "metadata": {},
   "outputs": [
    {
     "data": {
      "text/plain": [
       "0      None\n",
       "1    101 m²\n",
       "2     90 m²\n",
       "3     58 m²\n",
       "4    100 m²\n",
       "Name: total_area, dtype: object"
      ]
     },
     "execution_count": 12,
     "metadata": {},
     "output_type": "execute_result"
    }
   ],
   "source": [
    "avito_df[\"total_area\"].head()"
   ]
  },
  {
   "cell_type": "markdown",
   "metadata": {},
   "source": [
    "`total_area` is optional as well, it could be either null or might contain the m² symbol alone. Let's remove the m² sign to inspect the numbers."
   ]
  },
  {
   "cell_type": "code",
   "execution_count": 13,
   "metadata": {},
   "outputs": [],
   "source": [
    "total_areas = (avito_df[(avito_df[\"total_area\"].notnull()\n",
    "                         & (avito_df[\"total_area\"]!=\"m²\"))][\"total_area\"])\n",
    "total_areas = total_areas.str[:-3].astype(int)"
   ]
  },
  {
   "cell_type": "code",
   "execution_count": 14,
   "metadata": {},
   "outputs": [
    {
     "data": {
      "text/plain": [
       "count    246.000000\n",
       "mean      99.841463\n",
       "std       54.509419\n",
       "min        8.000000\n",
       "25%       69.250000\n",
       "50%       87.000000\n",
       "75%      115.750000\n",
       "max      586.000000\n",
       "Name: total_area, dtype: float64"
      ]
     },
     "execution_count": 14,
     "metadata": {},
     "output_type": "execute_result"
    }
   ],
   "source": [
    "total_areas.describe()"
   ]
  },
  {
   "cell_type": "markdown",
   "metadata": {},
   "source": [
    "We might think of a reasonable range to remove outliers from the `total_area` column as well."
   ]
  },
  {
   "cell_type": "code",
   "execution_count": 15,
   "metadata": {},
   "outputs": [
    {
     "data": {
      "text/plain": [
       "price\n",
       "Prix non spécifié    37\n",
       "1 100 000 DH          8\n",
       "650 000 DH            6\n",
       "550 000 DH            6\n",
       "700 000 DH            5\n",
       "                     ..\n",
       "1 130 000 DH          1\n",
       "3 450 000 DH          1\n",
       "4 200 000 DH          1\n",
       "5 000 DH              1\n",
       "2 140 000 DH          1\n",
       "Name: count, Length: 151, dtype: int64"
      ]
     },
     "execution_count": 15,
     "metadata": {},
     "output_type": "execute_result"
    }
   ],
   "source": [
    "avito_df[\"price\"].value_counts()"
   ]
  },
  {
   "cell_type": "markdown",
   "metadata": {},
   "source": [
    "`price` is optional but it can't be null, it contains the value \"Prix non spécifié\" instead. We can reformat the value to look at the numbers."
   ]
  },
  {
   "cell_type": "code",
   "execution_count": 16,
   "metadata": {},
   "outputs": [],
   "source": [
    "prices = avito_df[avito_df[\"price\"]!=\"Prix non spécifié\"][\"price\"]\n",
    "prices = prices.str.replace(\"DH\", \"\")\n",
    "prices = prices.str.replace(\"\\u202f\", \"\")\n",
    "prices = prices.astype(int)"
   ]
  },
  {
   "cell_type": "code",
   "execution_count": 17,
   "metadata": {},
   "outputs": [
    {
     "data": {
      "text/plain": [
       "count        280\n",
       "mean     1176787\n",
       "std       849372\n",
       "min         5000\n",
       "25%       627500\n",
       "50%       933500\n",
       "75%      1450000\n",
       "max      4750000\n",
       "Name: price, dtype: int64"
      ]
     },
     "execution_count": 17,
     "metadata": {},
     "output_type": "execute_result"
    }
   ],
   "source": [
    "prices.describe().astype(int)"
   ]
  },
  {
   "cell_type": "markdown",
   "metadata": {},
   "source": [
    "The max value of 29.000.000 DH is very high for an appartement. We might consider removing outliers from the `price` column as well using a reasonable range."
   ]
  },
  {
   "cell_type": "code",
   "execution_count": 18,
   "metadata": {},
   "outputs": [
    {
     "data": {
      "text/plain": [
       "city\n",
       "Casablanca       104\n",
       "Marrakech         48\n",
       "Kénitra           22\n",
       "Rabat             16\n",
       "Agadir            14\n",
       "Tanger            12\n",
       "Martil            11\n",
       "Mohammedia         9\n",
       "Temara             9\n",
       "Salé               7\n",
       "Meknès             7\n",
       "Mehdia             5\n",
       "El Jadida          5\n",
       "Bouskoura          5\n",
       "Tétouan            4\n",
       "Urgent             4\n",
       "Bouznika           4\n",
       "Dar Bouazza        4\n",
       "Fès                3\n",
       "Saidia             3\n",
       "Berrechid          3\n",
       "Deroua             2\n",
       "Mediouna           2\n",
       "Béni Mellal        2\n",
       "Sidi Rahal         2\n",
       "Tamaris            1\n",
       "Had Soualem        1\n",
       "Drargua            1\n",
       "Ifrane             1\n",
       "Tiznit             1\n",
       "Fnideq             1\n",
       "Asilah             1\n",
       "الدار البيضاء      1\n",
       "Nouaceur           1\n",
       "Cabo Negro         1\n",
       "Name: count, dtype: int64"
      ]
     },
     "execution_count": 18,
     "metadata": {},
     "output_type": "execute_result"
    }
   ],
   "source": [
    "avito_df[\"city\"].value_counts()"
   ]
  },
  {
   "cell_type": "markdown",
   "metadata": {},
   "source": [
    "We will need to compare these values with the same colmun from the other datasets to make sure they are consistent."
   ]
  },
  {
   "cell_type": "code",
   "execution_count": 19,
   "metadata": {},
   "outputs": [
    {
     "data": {
      "text/plain": [
       "title\n",
       "appartement à vendre                                 4\n",
       "Appartement à vendre 76 m² à Casablanca              3\n",
       "شقق للبيع في مدينة برشيد                             2\n",
       "Appartement à vendre 72 m² à Casablanca              2\n",
       "appartement                                          2\n",
       "                                                    ..\n",
       "Appartement à vendre 90 m² à El Menzeh               1\n",
       "Appartement à vendre 82 m² à Casablanca              1\n",
       "Appartement à vendre 92 m² à Kénitra                 1\n",
       "Très bel apt 3chambres Résidence Sécurisée Busway    1\n",
       "Appartement en Vente à Bouznika                      1\n",
       "Name: count, Length: 306, dtype: int64"
      ]
     },
     "execution_count": 19,
     "metadata": {},
     "output_type": "execute_result"
    }
   ],
   "source": [
    "avito_df[\"title\"].value_counts()"
   ]
  },
  {
   "cell_type": "code",
   "execution_count": 22,
   "metadata": {},
   "outputs": [
    {
     "data": {
      "text/html": [
       "<div>\n",
       "<style scoped>\n",
       "    .dataframe tbody tr th:only-of-type {\n",
       "        vertical-align: middle;\n",
       "    }\n",
       "\n",
       "    .dataframe tbody tr th {\n",
       "        vertical-align: top;\n",
       "    }\n",
       "\n",
       "    .dataframe thead th {\n",
       "        text-align: right;\n",
       "    }\n",
       "</style>\n",
       "<table border=\"1\" class=\"dataframe\">\n",
       "  <thead>\n",
       "    <tr style=\"text-align: right;\">\n",
       "      <th></th>\n",
       "      <th>url</th>\n",
       "      <th>n_bedrooms</th>\n",
       "      <th>n_bathrooms</th>\n",
       "      <th>total_area</th>\n",
       "      <th>title</th>\n",
       "      <th>price</th>\n",
       "      <th>city</th>\n",
       "      <th>time</th>\n",
       "      <th>user</th>\n",
       "      <th>attributes</th>\n",
       "      <th>equipments</th>\n",
       "      <th>date_time</th>\n",
       "      <th>year</th>\n",
       "      <th>month</th>\n",
       "    </tr>\n",
       "  </thead>\n",
       "  <tbody>\n",
       "    <tr>\n",
       "      <th>182</th>\n",
       "      <td>https://www.avito.ma/fr/aïn_borja/appartements...</td>\n",
       "      <td>2</td>\n",
       "      <td>2.0</td>\n",
       "      <td>81 m²</td>\n",
       "      <td>Appartement à vendre 72 m² à Casablanca</td>\n",
       "      <td>750 000 DH</td>\n",
       "      <td>Casablanca</td>\n",
       "      <td>il y a 3 heures</td>\n",
       "      <td>Benmoussa immobilier</td>\n",
       "      <td>{'Type': 'Appartements, à vendre', 'Secteur': ...</td>\n",
       "      <td>[Ascenseur, Concierge, Parking, Sécurité, Terr...</td>\n",
       "      <td>2024-11-14 13:02:00</td>\n",
       "      <td>2024</td>\n",
       "      <td>11</td>\n",
       "    </tr>\n",
       "    <tr>\n",
       "      <th>300</th>\n",
       "      <td>https://www.avito.ma/fr/almaz/appartements/App...</td>\n",
       "      <td>2</td>\n",
       "      <td>2.0</td>\n",
       "      <td>74 m²</td>\n",
       "      <td>Appartement à vendre 72 m² à Casablanca</td>\n",
       "      <td>1 050 000 DH</td>\n",
       "      <td>Casablanca</td>\n",
       "      <td>il y a 13 minutes</td>\n",
       "      <td>Jawad Machkour</td>\n",
       "      <td>{'Type': 'Appartements, à vendre', 'Secteur': ...</td>\n",
       "      <td>[Ascenseur, Balcon, Chauffage, Climatisation, ...</td>\n",
       "      <td>2024-11-14 15:50:00</td>\n",
       "      <td>2024</td>\n",
       "      <td>11</td>\n",
       "    </tr>\n",
       "  </tbody>\n",
       "</table>\n",
       "</div>"
      ],
      "text/plain": [
       "                                                   url  n_bedrooms  \\\n",
       "182  https://www.avito.ma/fr/aïn_borja/appartements...           2   \n",
       "300  https://www.avito.ma/fr/almaz/appartements/App...           2   \n",
       "\n",
       "     n_bathrooms total_area                                    title  \\\n",
       "182          2.0      81 m²  Appartement à vendre 72 m² à Casablanca   \n",
       "300          2.0      74 m²  Appartement à vendre 72 m² à Casablanca   \n",
       "\n",
       "            price        city               time                  user  \\\n",
       "182    750 000 DH  Casablanca    il y a 3 heures  Benmoussa immobilier   \n",
       "300  1 050 000 DH  Casablanca  il y a 13 minutes        Jawad Machkour   \n",
       "\n",
       "                                            attributes  \\\n",
       "182  {'Type': 'Appartements, à vendre', 'Secteur': ...   \n",
       "300  {'Type': 'Appartements, à vendre', 'Secteur': ...   \n",
       "\n",
       "                                            equipments           date_time  \\\n",
       "182  [Ascenseur, Concierge, Parking, Sécurité, Terr... 2024-11-14 13:02:00   \n",
       "300  [Ascenseur, Balcon, Chauffage, Climatisation, ... 2024-11-14 15:50:00   \n",
       "\n",
       "     year  month  \n",
       "182  2024     11  \n",
       "300  2024     11  "
      ]
     },
     "execution_count": 22,
     "metadata": {},
     "output_type": "execute_result"
    }
   ],
   "source": [
    "avito_df[avito_df[\"title\"]==\"Appartement à vendre 72 m² à Casablanca\"]"
   ]
  },
  {
   "cell_type": "markdown",
   "metadata": {},
   "source": [
    "We can't even refer to the `title` in order to determine duplicates. In this case, it wouldn't be interesting deduplicate the rows."
   ]
  },
  {
   "cell_type": "code",
   "execution_count": 23,
   "metadata": {},
   "outputs": [
    {
     "data": {
      "text/plain": [
       "user\n",
       "AGENZ.MA                  14\n",
       "kenitra immo              11\n",
       "ALPHA TRANSACTION          9\n",
       "hmoz martil                7\n",
       "Lhaj                       7\n",
       "                          ..\n",
       "Ibtissam ta                1\n",
       "MMP IMMOBILIER             1\n",
       "Groupe Ikamati             1\n",
       "North Morocco IMMO         1\n",
       "IMMO GLOBAL BUSINESS 1     1\n",
       "Name: count, Length: 180, dtype: int64"
      ]
     },
     "execution_count": 23,
     "metadata": {},
     "output_type": "execute_result"
    }
   ],
   "source": [
    "avito_df[\"user\"].value_counts()"
   ]
  },
  {
   "cell_type": "markdown",
   "metadata": {},
   "source": [
    "Analyzing the `user` to know who are the most active, but this would result in an analysis of the specific platform, which is out of the scope of this project, we would rather drop this column."
   ]
  },
  {
   "cell_type": "markdown",
   "metadata": {},
   "source": [
    "The `time` column has been extracted in order to help us determine the time of each announcement, which is represented by the `date_time`, `year` and `month` columns.\n",
    "Time is important and is a known factor for price changes in real estate, we would drop the `time` column since it serves no other purpose than helping us extract the actual date."
   ]
  },
  {
   "cell_type": "code",
   "execution_count": 24,
   "metadata": {},
   "outputs": [
    {
     "data": {
      "text/plain": [
       "0    {'Type': 'Appartements, à vendre', 'Secteur': ...\n",
       "1    {'Type': 'Appartements, à vendre', 'Secteur': ...\n",
       "2    {'Type': 'Appartements, à vendre', 'Secteur': ...\n",
       "3    {'Type': 'Appartements, à vendre', 'Secteur': ...\n",
       "4    {'Type': 'Appartements, à vendre', 'Secteur': ...\n",
       "Name: attributes, dtype: object"
      ]
     },
     "execution_count": 24,
     "metadata": {},
     "output_type": "execute_result"
    }
   ],
   "source": [
    "avito_df[\"attributes\"].head()"
   ]
  },
  {
   "cell_type": "markdown",
   "metadata": {},
   "source": [
    "`attributes` is an object column that contains a dictionary of attributes, we can extract the keys and values to inspect the data. This column can't contain null values since there are required attributes for each announcement."
   ]
  },
  {
   "cell_type": "code",
   "execution_count": 25,
   "metadata": {},
   "outputs": [
    {
     "name": "stdout",
     "output_type": "stream",
     "text": [
      "{'Secteur', 'Surface habitable', 'Type', 'Âge du bien', 'Frais de syndic / mois', 'Étage', 'Salons'}\n"
     ]
    },
    {
     "data": {
      "text/html": [
       "<div>\n",
       "<style scoped>\n",
       "    .dataframe tbody tr th:only-of-type {\n",
       "        vertical-align: middle;\n",
       "    }\n",
       "\n",
       "    .dataframe tbody tr th {\n",
       "        vertical-align: top;\n",
       "    }\n",
       "\n",
       "    .dataframe thead th {\n",
       "        text-align: right;\n",
       "    }\n",
       "</style>\n",
       "<table border=\"1\" class=\"dataframe\">\n",
       "  <thead>\n",
       "    <tr style=\"text-align: right;\">\n",
       "      <th></th>\n",
       "      <th>url</th>\n",
       "      <th>n_bedrooms</th>\n",
       "      <th>n_bathrooms</th>\n",
       "      <th>total_area</th>\n",
       "      <th>title</th>\n",
       "      <th>price</th>\n",
       "      <th>city</th>\n",
       "      <th>time</th>\n",
       "      <th>user</th>\n",
       "      <th>attributes</th>\n",
       "      <th>...</th>\n",
       "      <th>date_time</th>\n",
       "      <th>year</th>\n",
       "      <th>month</th>\n",
       "      <th>Secteur</th>\n",
       "      <th>Surface habitable</th>\n",
       "      <th>Type</th>\n",
       "      <th>Âge du bien</th>\n",
       "      <th>Frais de syndic / mois</th>\n",
       "      <th>Étage</th>\n",
       "      <th>Salons</th>\n",
       "    </tr>\n",
       "  </thead>\n",
       "  <tbody>\n",
       "    <tr>\n",
       "      <th>0</th>\n",
       "      <td>https://www.avito.ma/fr/haut_founty/appartemen...</td>\n",
       "      <td>2</td>\n",
       "      <td>2.0</td>\n",
       "      <td>None</td>\n",
       "      <td>Appartement à vendre 81 m² quartier Haut Founty</td>\n",
       "      <td>Prix non spécifié</td>\n",
       "      <td>Agadir</td>\n",
       "      <td>il y a 7 minutes</td>\n",
       "      <td>AM IMMOBILIER AGADIR</td>\n",
       "      <td>{'Type': 'Appartements, à vendre', 'Secteur': ...</td>\n",
       "      <td>...</td>\n",
       "      <td>2024-11-14 15:53:00</td>\n",
       "      <td>2024</td>\n",
       "      <td>11</td>\n",
       "      <td>Haut-Founty</td>\n",
       "      <td>81</td>\n",
       "      <td>Appartements, à vendre</td>\n",
       "      <td>Neuf</td>\n",
       "      <td>None</td>\n",
       "      <td>6</td>\n",
       "      <td>1</td>\n",
       "    </tr>\n",
       "    <tr>\n",
       "      <th>1</th>\n",
       "      <td>https://www.avito.ma/fr/ahlane/appartements/Ap...</td>\n",
       "      <td>3</td>\n",
       "      <td>2.0</td>\n",
       "      <td>101 m²</td>\n",
       "      <td>Appartement à vendre 101 m² à Tanger</td>\n",
       "      <td>135 000 DH</td>\n",
       "      <td>Tanger</td>\n",
       "      <td>il y a 19 minutes</td>\n",
       "      <td>Moha</td>\n",
       "      <td>{'Type': 'Appartements, à vendre', 'Secteur': ...</td>\n",
       "      <td>...</td>\n",
       "      <td>2024-11-14 15:41:00</td>\n",
       "      <td>2024</td>\n",
       "      <td>11</td>\n",
       "      <td>Ahlane</td>\n",
       "      <td>101</td>\n",
       "      <td>Appartements, à vendre</td>\n",
       "      <td>Neuf</td>\n",
       "      <td>None</td>\n",
       "      <td>1</td>\n",
       "      <td>1</td>\n",
       "    </tr>\n",
       "    <tr>\n",
       "      <th>2</th>\n",
       "      <td>https://www.avito.ma/fr/autre_secteur/appartem...</td>\n",
       "      <td>2</td>\n",
       "      <td>2.0</td>\n",
       "      <td>90 m²</td>\n",
       "      <td>Bel appartement</td>\n",
       "      <td>540 000 DH</td>\n",
       "      <td>Fès</td>\n",
       "      <td>il y a 19 minutes</td>\n",
       "      <td>Med</td>\n",
       "      <td>{'Type': 'Appartements, à vendre', 'Secteur': ...</td>\n",
       "      <td>...</td>\n",
       "      <td>2024-11-14 15:41:00</td>\n",
       "      <td>2024</td>\n",
       "      <td>11</td>\n",
       "      <td>Autre secteur</td>\n",
       "      <td>80</td>\n",
       "      <td>Appartements, à vendre</td>\n",
       "      <td>1-5 ans</td>\n",
       "      <td>50</td>\n",
       "      <td>1</td>\n",
       "      <td>1</td>\n",
       "    </tr>\n",
       "    <tr>\n",
       "      <th>3</th>\n",
       "      <td>https://www.avito.ma/fr/riad_toulal/appartemen...</td>\n",
       "      <td>2</td>\n",
       "      <td>2.0</td>\n",
       "      <td>58 m²</td>\n",
       "      <td>Appartement à vendre 58 m² à Meknès</td>\n",
       "      <td>290 000 DH</td>\n",
       "      <td>Meknès</td>\n",
       "      <td>il y a 21 minutes</td>\n",
       "      <td>ORBIS Promotion</td>\n",
       "      <td>{'Type': 'Appartements, à vendre', 'Secteur': ...</td>\n",
       "      <td>...</td>\n",
       "      <td>2024-11-14 15:39:00</td>\n",
       "      <td>2024</td>\n",
       "      <td>11</td>\n",
       "      <td>Riad Toulal</td>\n",
       "      <td>58</td>\n",
       "      <td>Appartements, à vendre</td>\n",
       "      <td>Neuf</td>\n",
       "      <td>None</td>\n",
       "      <td>2</td>\n",
       "      <td>1</td>\n",
       "    </tr>\n",
       "    <tr>\n",
       "      <th>4</th>\n",
       "      <td>https://www.avito.ma/fr/al_boustane/appartemen...</td>\n",
       "      <td>2</td>\n",
       "      <td>1.0</td>\n",
       "      <td>100 m²</td>\n",
       "      <td>Appartement Rdc dans R plus 2</td>\n",
       "      <td>520 000 DH</td>\n",
       "      <td>El Jadida</td>\n",
       "      <td>il y a 17 minutes</td>\n",
       "      <td>Tic House</td>\n",
       "      <td>{'Type': 'Appartements, à vendre', 'Secteur': ...</td>\n",
       "      <td>...</td>\n",
       "      <td>2024-11-14 15:43:00</td>\n",
       "      <td>2024</td>\n",
       "      <td>11</td>\n",
       "      <td>Al Boustane</td>\n",
       "      <td>78</td>\n",
       "      <td>Appartements, à vendre</td>\n",
       "      <td>Neuf</td>\n",
       "      <td>None</td>\n",
       "      <td>Rez de chaussée</td>\n",
       "      <td>1</td>\n",
       "    </tr>\n",
       "  </tbody>\n",
       "</table>\n",
       "<p>5 rows × 21 columns</p>\n",
       "</div>"
      ],
      "text/plain": [
       "                                                 url  n_bedrooms  n_bathrooms  \\\n",
       "0  https://www.avito.ma/fr/haut_founty/appartemen...           2          2.0   \n",
       "1  https://www.avito.ma/fr/ahlane/appartements/Ap...           3          2.0   \n",
       "2  https://www.avito.ma/fr/autre_secteur/appartem...           2          2.0   \n",
       "3  https://www.avito.ma/fr/riad_toulal/appartemen...           2          2.0   \n",
       "4  https://www.avito.ma/fr/al_boustane/appartemen...           2          1.0   \n",
       "\n",
       "  total_area                                            title  \\\n",
       "0       None  Appartement à vendre 81 m² quartier Haut Founty   \n",
       "1     101 m²             Appartement à vendre 101 m² à Tanger   \n",
       "2      90 m²                                 Bel appartement    \n",
       "3      58 m²              Appartement à vendre 58 m² à Meknès   \n",
       "4     100 m²                    Appartement Rdc dans R plus 2   \n",
       "\n",
       "               price       city               time                  user  \\\n",
       "0  Prix non spécifié     Agadir   il y a 7 minutes  AM IMMOBILIER AGADIR   \n",
       "1         135 000 DH     Tanger  il y a 19 minutes                  Moha   \n",
       "2         540 000 DH        Fès  il y a 19 minutes                   Med   \n",
       "3         290 000 DH     Meknès  il y a 21 minutes       ORBIS Promotion   \n",
       "4         520 000 DH  El Jadida  il y a 17 minutes             Tic House   \n",
       "\n",
       "                                          attributes  ...           date_time  \\\n",
       "0  {'Type': 'Appartements, à vendre', 'Secteur': ...  ... 2024-11-14 15:53:00   \n",
       "1  {'Type': 'Appartements, à vendre', 'Secteur': ...  ... 2024-11-14 15:41:00   \n",
       "2  {'Type': 'Appartements, à vendre', 'Secteur': ...  ... 2024-11-14 15:41:00   \n",
       "3  {'Type': 'Appartements, à vendre', 'Secteur': ...  ... 2024-11-14 15:39:00   \n",
       "4  {'Type': 'Appartements, à vendre', 'Secteur': ...  ... 2024-11-14 15:43:00   \n",
       "\n",
       "   year  month        Secteur Surface habitable                    Type  \\\n",
       "0  2024     11    Haut-Founty                81  Appartements, à vendre   \n",
       "1  2024     11         Ahlane               101  Appartements, à vendre   \n",
       "2  2024     11  Autre secteur                80  Appartements, à vendre   \n",
       "3  2024     11    Riad Toulal                58  Appartements, à vendre   \n",
       "4  2024     11    Al Boustane                78  Appartements, à vendre   \n",
       "\n",
       "  Âge du bien Frais de syndic / mois            Étage Salons  \n",
       "0        Neuf                   None                6      1  \n",
       "1        Neuf                   None                1      1  \n",
       "2     1-5 ans                     50                1      1  \n",
       "3        Neuf                   None                2      1  \n",
       "4        Neuf                   None  Rez de chaussée      1  \n",
       "\n",
       "[5 rows x 21 columns]"
      ]
     },
     "execution_count": 25,
     "metadata": {},
     "output_type": "execute_result"
    }
   ],
   "source": [
    "attributes_keys = set()\n",
    "for attribute in avito_df[\"attributes\"]:\n",
    "    if attribute is not None:\n",
    "        attributes_keys.update(attribute.keys())\n",
    "\n",
    "print(attributes_keys)  # noqa: T201\n",
    "for attribute_key in attributes_keys:\n",
    "    avito_df[attribute_key] = avito_df[\"attributes\"].apply(\n",
    "        lambda x, key=attribute_key: x.get(key, None)\n",
    "    )\n",
    "\n",
    "avito_df.head()"
   ]
  },
  {
   "cell_type": "code",
   "execution_count": 26,
   "metadata": {},
   "outputs": [
    {
     "data": {
      "text/plain": [
       "Type\n",
       "Appartements, à vendre    317\n",
       "Name: count, dtype: int64"
      ]
     },
     "execution_count": 26,
     "metadata": {},
     "output_type": "execute_result"
    }
   ],
   "source": [
    "avito_df[\"Type\"].value_counts()\n",
    "# 1 value, indicating that the type of the property is an apartment"
   ]
  },
  {
   "cell_type": "code",
   "execution_count": 27,
   "metadata": {},
   "outputs": [
    {
     "data": {
      "text/plain": [
       "Secteur\n",
       "Toute la ville    45\n",
       "Autre secteur     30\n",
       "Guéliz            19\n",
       "Sidi Maarouf       8\n",
       "Ain Sebaa          7\n",
       "                  ..\n",
       "Aviation           1\n",
       "Zemmouri           1\n",
       "Sidi Moumen        1\n",
       "Partie Est         1\n",
       "Moujahidine        1\n",
       "Name: count, Length: 112, dtype: int64"
      ]
     },
     "execution_count": 27,
     "metadata": {},
     "output_type": "execute_result"
    }
   ],
   "source": [
    "avito_df[\"Secteur\"].value_counts()\n",
    "# we need to compare neighborhoods with the ones in the other datasets"
   ]
  },
  {
   "cell_type": "code",
   "execution_count": 28,
   "metadata": {},
   "outputs": [
    {
     "data": {
      "text/plain": [
       "Âge du bien\n",
       "Neuf         132\n",
       "11-20 ans     37\n",
       "1-5 ans       35\n",
       "6-10 ans      29\n",
       "21+ ans        7\n",
       "Name: count, dtype: int64"
      ]
     },
     "execution_count": 28,
     "metadata": {},
     "output_type": "execute_result"
    }
   ],
   "source": [
    "avito_df[\"Âge du bien\"].value_counts()"
   ]
  },
  {
   "cell_type": "code",
   "execution_count": 29,
   "metadata": {},
   "outputs": [
    {
     "data": {
      "text/plain": [
       "(np.int64(227),\n",
       " Frais de syndic / mois\n",
       " 200       17\n",
       " 100       14\n",
       " 150       10\n",
       " 50        10\n",
       " 300        9\n",
       " 1          6\n",
       " 500        5\n",
       " 250        5\n",
       " 400        5\n",
       " 320        1\n",
       " 900        1\n",
       " 800000     1\n",
       " 449        1\n",
       " 47         1\n",
       " 20         1\n",
       " 80         1\n",
       " 226        1\n",
       " 130        1\n",
       " Name: count, dtype: int64)"
      ]
     },
     "execution_count": 29,
     "metadata": {},
     "output_type": "execute_result"
    }
   ],
   "source": [
    "(avito_df[\"Frais de syndic / mois\"].isnull().sum(),\n",
    "avito_df[\"Frais de syndic / mois\"].value_counts())\n",
    "# column mostly contains null values"
   ]
  },
  {
   "cell_type": "code",
   "execution_count": 30,
   "metadata": {},
   "outputs": [
    {
     "data": {
      "text/plain": [
       "Étage\n",
       "1                  103\n",
       "2                   67\n",
       "3                   57\n",
       "4                   30\n",
       "Rez de chaussée     26\n",
       "5                   22\n",
       "6                    4\n",
       "7+                   4\n",
       "8                    2\n",
       "Name: count, dtype: int64"
      ]
     },
     "execution_count": 30,
     "metadata": {},
     "output_type": "execute_result"
    }
   ],
   "source": [
    "avito_df[\"Étage\"].value_counts() # to be compared with the other datasets"
   ]
  },
  {
   "cell_type": "code",
   "execution_count": 31,
   "metadata": {},
   "outputs": [
    {
     "data": {
      "text/plain": [
       "(5,\n",
       " Surface habitable\n",
       " 85     10\n",
       " 80      9\n",
       " 75      9\n",
       " 72      8\n",
       " 70      7\n",
       "        ..\n",
       " 141     1\n",
       " 96      1\n",
       " 182     1\n",
       " 127     1\n",
       " 37      1\n",
       " Name: count, Length: 118, dtype: int64)"
      ]
     },
     "execution_count": 31,
     "metadata": {},
     "output_type": "execute_result"
    }
   ],
   "source": [
    "(int(avito_df[\"Surface habitable\"].isna().sum()),\n",
    " avito_df[\"Surface habitable\"].value_counts())\n",
    "# be careful with the outliers"
   ]
  },
  {
   "cell_type": "code",
   "execution_count": 32,
   "metadata": {},
   "outputs": [
    {
     "data": {
      "text/plain": [
       "Salons\n",
       "1    227\n",
       "2     54\n",
       "3      7\n",
       "0      4\n",
       "4      3\n",
       "Name: count, dtype: int64"
      ]
     },
     "execution_count": 32,
     "metadata": {},
     "output_type": "execute_result"
    }
   ],
   "source": [
    "avito_df[\"Salons\"].value_counts()"
   ]
  },
  {
   "cell_type": "code",
   "execution_count": 34,
   "metadata": {},
   "outputs": [
    {
     "data": {
      "text/plain": [
       "0                                                   []\n",
       "1    [Ascenseur, Balcon, Climatisation, Cuisine équ...\n",
       "2    [Ascenseur, Balcon, Chauffage, Climatisation, ...\n",
       "3    [Ascenseur, Balcon, Chauffage, Climatisation, ...\n",
       "4                                    [Cuisine équipée]\n",
       "Name: equipments, dtype: object"
      ]
     },
     "execution_count": 34,
     "metadata": {},
     "output_type": "execute_result"
    }
   ],
   "source": [
    "avito_df[\"equipments\"].head()"
   ]
  },
  {
   "cell_type": "markdown",
   "metadata": {},
   "source": [
    "For the `equipments` column, we can one hot encode the value of each equipment item. But in this step, we would only be interested to know what are the possible values, in order to know what to expect from the other datasets."
   ]
  },
  {
   "cell_type": "code",
   "execution_count": 36,
   "metadata": {},
   "outputs": [
    {
     "data": {
      "text/plain": [
       "['Ascenseur',\n",
       " 'Balcon',\n",
       " 'Chauffage',\n",
       " 'Climatisation',\n",
       " 'Concierge',\n",
       " 'Cuisine équipée',\n",
       " 'Duplex',\n",
       " 'Meublé',\n",
       " 'Parking',\n",
       " 'Sécurité',\n",
       " 'Terrasse']"
      ]
     },
     "execution_count": 36,
     "metadata": {},
     "output_type": "execute_result"
    }
   ],
   "source": [
    "equipments = set()\n",
    "for equipment in avito_df[\"equipments\"]:\n",
    "    if equipment is not None:\n",
    "        equipments.update(equipment)\n",
    "\n",
    "equipment_list = sorted(equipments)\n",
    "equipment_list"
   ]
  },
  {
   "cell_type": "markdown",
   "metadata": {},
   "source": [
    "## Conclusion\n",
    "\n",
    "Here are the main takeaways from this overview:\n",
    "- Clean columns for type encoding: `total_area`, `living_area`, `price`, etc.\n",
    "- Filter columns for outliers: `n_bedrooms`, `total_area`, `price`, etc.\n",
    "- Compare columns holding the same information from the other datasets, to make sure they are consistent.\n",
    "- Drop columns that are not useful for the analysis: `user`, `time`, `Frais syndicat / mois`, etc."
   ]
  }
 ],
 "metadata": {
  "kernelspec": {
   "display_name": ".venv",
   "language": "python",
   "name": "python3"
  },
  "language_info": {
   "codemirror_mode": {
    "name": "ipython",
    "version": 3
   },
   "file_extension": ".py",
   "mimetype": "text/x-python",
   "name": "python",
   "nbconvert_exporter": "python",
   "pygments_lexer": "ipython3",
   "version": "3.11.5"
  }
 },
 "nbformat": 4,
 "nbformat_minor": 2
}
