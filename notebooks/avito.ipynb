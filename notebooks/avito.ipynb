{
 "cells": [
  {
   "cell_type": "markdown",
   "metadata": {},
   "source": [
    "# Avito Data\n",
    "\n",
    "This file is for inspecting and exploring data extracted from Avito."
   ]
  },
  {
   "cell_type": "code",
   "execution_count": 1,
   "metadata": {},
   "outputs": [],
   "source": [
    "import pandas as pd"
   ]
  },
  {
   "cell_type": "code",
   "execution_count": 22,
   "metadata": {},
   "outputs": [],
   "source": [
    "avito_df = pd.read_json(\"../data/avito/2024-10-12_avito.json\")"
   ]
  },
  {
   "cell_type": "code",
   "execution_count": 13,
   "metadata": {},
   "outputs": [
    {
     "data": {
      "text/html": [
       "<div>\n",
       "<style scoped>\n",
       "    .dataframe tbody tr th:only-of-type {\n",
       "        vertical-align: middle;\n",
       "    }\n",
       "\n",
       "    .dataframe tbody tr th {\n",
       "        vertical-align: top;\n",
       "    }\n",
       "\n",
       "    .dataframe thead th {\n",
       "        text-align: right;\n",
       "    }\n",
       "</style>\n",
       "<table border=\"1\" class=\"dataframe\">\n",
       "  <thead>\n",
       "    <tr style=\"text-align: right;\">\n",
       "      <th></th>\n",
       "      <th>url</th>\n",
       "      <th>n_bedrooms</th>\n",
       "      <th>n_bathrooms</th>\n",
       "      <th>total_area</th>\n",
       "      <th>title</th>\n",
       "      <th>price</th>\n",
       "      <th>city</th>\n",
       "      <th>time</th>\n",
       "      <th>user</th>\n",
       "      <th>attributes</th>\n",
       "      <th>equipements</th>\n",
       "      <th>date_time</th>\n",
       "      <th>year</th>\n",
       "      <th>month</th>\n",
       "    </tr>\n",
       "  </thead>\n",
       "  <tbody>\n",
       "    <tr>\n",
       "      <th>0</th>\n",
       "      <td>https://www.avito.ma/fr/hay_chrifa/appartement...</td>\n",
       "      <td>1</td>\n",
       "      <td>1</td>\n",
       "      <td>72 m²</td>\n",
       "      <td>61292-Vente Appt à Casablanca Lekrimat de 72 m²</td>\n",
       "      <td>830 000 DH</td>\n",
       "      <td>Casablanca</td>\n",
       "      <td>il y a 8 minutes</td>\n",
       "      <td>Yakeey</td>\n",
       "      <td>{'Type': 'Appartements, à vendre', 'Secteur': ...</td>\n",
       "      <td>[Ascenseur, Balcon, Chauffage, Cuisine équipée...</td>\n",
       "      <td>2024-10-12 19:23:00</td>\n",
       "      <td>2024</td>\n",
       "      <td>10</td>\n",
       "    </tr>\n",
       "    <tr>\n",
       "      <th>1</th>\n",
       "      <td>https://www.avito.ma/fr/hay_mohammadi/appartem...</td>\n",
       "      <td>2</td>\n",
       "      <td>1</td>\n",
       "      <td>None</td>\n",
       "      <td>apparemment neuf à vendre 63m²</td>\n",
       "      <td>Prix non spécifié</td>\n",
       "      <td>Agadir</td>\n",
       "      <td>il y a 36 minutes</td>\n",
       "      <td>Hemza IMMO</td>\n",
       "      <td>{'Type': 'Appartements, à vendre', 'Secteur': ...</td>\n",
       "      <td>[Balcon, Climatisation, Cuisine équipée]</td>\n",
       "      <td>2024-10-12 18:55:00</td>\n",
       "      <td>2024</td>\n",
       "      <td>10</td>\n",
       "    </tr>\n",
       "    <tr>\n",
       "      <th>2</th>\n",
       "      <td>https://www.avito.ma/fr/sidi_bernoussi/apparte...</td>\n",
       "      <td>2</td>\n",
       "      <td>1</td>\n",
       "      <td>62 m²</td>\n",
       "      <td>شقة جميلة جدا بالطابق التاني اقامة مدينتي</td>\n",
       "      <td>340 000 DH</td>\n",
       "      <td>Casablanca</td>\n",
       "      <td>il y a 33 minutes</td>\n",
       "      <td>cimmo.ma</td>\n",
       "      <td>{'Type': 'Appartements, à vendre', 'Secteur': ...</td>\n",
       "      <td>[]</td>\n",
       "      <td>2024-10-12 18:58:00</td>\n",
       "      <td>2024</td>\n",
       "      <td>10</td>\n",
       "    </tr>\n",
       "    <tr>\n",
       "      <th>3</th>\n",
       "      <td>https://www.avito.ma/fr/ville_nouvelle/apparte...</td>\n",
       "      <td>3</td>\n",
       "      <td>2</td>\n",
       "      <td>128 m²</td>\n",
       "      <td>Appartement duplex 128 m² à Meknès</td>\n",
       "      <td>Prix non spécifié</td>\n",
       "      <td>Meknès</td>\n",
       "      <td>il y a 34 minutes</td>\n",
       "      <td>Alaoui immobilier</td>\n",
       "      <td>{'Type': 'Appartements, à vendre', 'Secteur': ...</td>\n",
       "      <td>[Ascenseur, Balcon, Concierge, Cuisine équipée...</td>\n",
       "      <td>2024-10-12 18:57:00</td>\n",
       "      <td>2024</td>\n",
       "      <td>10</td>\n",
       "    </tr>\n",
       "    <tr>\n",
       "      <th>4</th>\n",
       "      <td>https://www.avito.ma/fr/ville_verte/appartemen...</td>\n",
       "      <td>3</td>\n",
       "      <td>2</td>\n",
       "      <td>114 m²</td>\n",
       "      <td>Appartement haut standing à vendre à Bouskoura</td>\n",
       "      <td>1 480 000 DH</td>\n",
       "      <td>Bouskoura</td>\n",
       "      <td>il y a 33 minutes</td>\n",
       "      <td>ABDES</td>\n",
       "      <td>{'Type': 'Appartements, à vendre', 'Secteur': ...</td>\n",
       "      <td>[Ascenseur, Balcon, Concierge, Cuisine équipée...</td>\n",
       "      <td>2024-10-12 18:58:00</td>\n",
       "      <td>2024</td>\n",
       "      <td>10</td>\n",
       "    </tr>\n",
       "  </tbody>\n",
       "</table>\n",
       "</div>"
      ],
      "text/plain": [
       "                                                 url  n_bedrooms n_bathrooms  \\\n",
       "0  https://www.avito.ma/fr/hay_chrifa/appartement...           1           1   \n",
       "1  https://www.avito.ma/fr/hay_mohammadi/appartem...           2           1   \n",
       "2  https://www.avito.ma/fr/sidi_bernoussi/apparte...           2           1   \n",
       "3  https://www.avito.ma/fr/ville_nouvelle/apparte...           3           2   \n",
       "4  https://www.avito.ma/fr/ville_verte/appartemen...           3           2   \n",
       "\n",
       "  total_area                                            title  \\\n",
       "0      72 m²  61292-Vente Appt à Casablanca Lekrimat de 72 m²   \n",
       "1       None                   apparemment neuf à vendre 63m²   \n",
       "2      62 m²       شقة جميلة جدا بالطابق التاني اقامة مدينتي    \n",
       "3     128 m²               Appartement duplex 128 m² à Meknès   \n",
       "4     114 m²   Appartement haut standing à vendre à Bouskoura   \n",
       "\n",
       "               price        city               time               user  \\\n",
       "0         830 000 DH  Casablanca   il y a 8 minutes             Yakeey   \n",
       "1  Prix non spécifié      Agadir  il y a 36 minutes         Hemza IMMO   \n",
       "2         340 000 DH  Casablanca  il y a 33 minutes           cimmo.ma   \n",
       "3  Prix non spécifié      Meknès  il y a 34 minutes  Alaoui immobilier   \n",
       "4       1 480 000 DH   Bouskoura  il y a 33 minutes              ABDES   \n",
       "\n",
       "                                          attributes  \\\n",
       "0  {'Type': 'Appartements, à vendre', 'Secteur': ...   \n",
       "1  {'Type': 'Appartements, à vendre', 'Secteur': ...   \n",
       "2  {'Type': 'Appartements, à vendre', 'Secteur': ...   \n",
       "3  {'Type': 'Appartements, à vendre', 'Secteur': ...   \n",
       "4  {'Type': 'Appartements, à vendre', 'Secteur': ...   \n",
       "\n",
       "                                         equipements           date_time  \\\n",
       "0  [Ascenseur, Balcon, Chauffage, Cuisine équipée... 2024-10-12 19:23:00   \n",
       "1           [Balcon, Climatisation, Cuisine équipée] 2024-10-12 18:55:00   \n",
       "2                                                 [] 2024-10-12 18:58:00   \n",
       "3  [Ascenseur, Balcon, Concierge, Cuisine équipée... 2024-10-12 18:57:00   \n",
       "4  [Ascenseur, Balcon, Concierge, Cuisine équipée... 2024-10-12 18:58:00   \n",
       "\n",
       "   year  month  \n",
       "0  2024     10  \n",
       "1  2024     10  \n",
       "2  2024     10  \n",
       "3  2024     10  \n",
       "4  2024     10  "
      ]
     },
     "execution_count": 13,
     "metadata": {},
     "output_type": "execute_result"
    }
   ],
   "source": [
    "avito_df.head()"
   ]
  },
  {
   "cell_type": "code",
   "execution_count": 23,
   "metadata": {},
   "outputs": [
    {
     "data": {
      "text/plain": [
       "Index(['url', 'n_bedrooms', 'n_bathrooms', 'total_area', 'title', 'price',\n",
       "       'city', 'time', 'user', 'attributes', 'equipements', 'date_time',\n",
       "       'year', 'month'],\n",
       "      dtype='object')"
      ]
     },
     "execution_count": 23,
     "metadata": {},
     "output_type": "execute_result"
    }
   ],
   "source": [
    "avito_df.columns"
   ]
  },
  {
   "cell_type": "code",
   "execution_count": 21,
   "metadata": {},
   "outputs": [
    {
     "data": {
      "text/plain": [
       "url                    object\n",
       "n_bedrooms              int64\n",
       "n_bathrooms            object\n",
       "total_area             object\n",
       "title                  object\n",
       "price                  object\n",
       "city                   object\n",
       "time                   object\n",
       "user                   object\n",
       "attributes             object\n",
       "equipements            object\n",
       "date_time      datetime64[ns]\n",
       "year                    int64\n",
       "month                   int64\n",
       "dtype: object"
      ]
     },
     "execution_count": 21,
     "metadata": {},
     "output_type": "execute_result"
    }
   ],
   "source": [
    "avito_df.dtypes"
   ]
  },
  {
   "cell_type": "code",
   "execution_count": 8,
   "metadata": {},
   "outputs": [
    {
     "data": {
      "text/plain": [
       "n_bedrooms\n",
       "2     112\n",
       "3      72\n",
       "1      19\n",
       "4       7\n",
       "5       1\n",
       "10      1\n",
       "6       1\n",
       "Name: count, dtype: int64"
      ]
     },
     "execution_count": 8,
     "metadata": {},
     "output_type": "execute_result"
    }
   ],
   "source": [
    "avito_df[\"n_bedrooms\"].value_counts()"
   ]
  },
  {
   "cell_type": "markdown",
   "metadata": {},
   "source": [
    "The `n_bedrooms` column is an integer, we might need to control the input to prevent outliers from occuring.\n",
    "We can think of a reasonable range for the number of bedrooms in a house, and remove any rows that fall outside of that range."
   ]
  },
  {
   "cell_type": "code",
   "execution_count": 24,
   "metadata": {},
   "outputs": [
    {
     "data": {
      "text/plain": [
       "n_bathrooms\n",
       "2     105\n",
       "1      86\n",
       "3      17\n",
       "0       2\n",
       "7+      1\n",
       "4       1\n",
       "Name: count, dtype: int64"
      ]
     },
     "execution_count": 24,
     "metadata": {},
     "output_type": "execute_result"
    }
   ],
   "source": [
    "avito_df[\"n_bathrooms\"].value_counts()"
   ]
  },
  {
   "cell_type": "markdown",
   "metadata": {},
   "source": [
    "`n_bathrooms` is an optional column and can be null, we also notice a value of 7+, and the rest being integers."
   ]
  },
  {
   "cell_type": "code",
   "execution_count": 26,
   "metadata": {},
   "outputs": [
    {
     "data": {
      "text/plain": [
       "0     72 m²\n",
       "1      None\n",
       "2     62 m²\n",
       "3    128 m²\n",
       "4    114 m²\n",
       "Name: total_area, dtype: object"
      ]
     },
     "execution_count": 26,
     "metadata": {},
     "output_type": "execute_result"
    }
   ],
   "source": [
    "avito_df[\"total_area\"].head()"
   ]
  },
  {
   "cell_type": "markdown",
   "metadata": {},
   "source": [
    "`total_area` is optional as well, it could be either null or might contain the m² symbol alone. Let's remove the m² sign to inspect the numbers."
   ]
  },
  {
   "cell_type": "code",
   "execution_count": 118,
   "metadata": {},
   "outputs": [],
   "source": [
    "total_areas = (avito_df[(avito_df[\"total_area\"].notnull()\n",
    "                         & (avito_df[\"total_area\"]!=\"m²\"))][\"total_area\"])\n",
    "total_areas = total_areas.str[:-3].astype(int)"
   ]
  },
  {
   "cell_type": "code",
   "execution_count": 84,
   "metadata": {},
   "outputs": [
    {
     "data": {
      "text/plain": [
       "count    176.000000\n",
       "mean     108.670455\n",
       "std       72.240348\n",
       "min       32.000000\n",
       "25%       70.000000\n",
       "50%       96.500000\n",
       "75%      127.250000\n",
       "max      800.000000\n",
       "Name: total_area, dtype: float64"
      ]
     },
     "execution_count": 84,
     "metadata": {},
     "output_type": "execute_result"
    }
   ],
   "source": [
    "total_areas.describe()"
   ]
  },
  {
   "cell_type": "markdown",
   "metadata": {},
   "source": [
    "We might think of a reasonable range to remove outliers from the `total_area` column as well."
   ]
  },
  {
   "cell_type": "code",
   "execution_count": 72,
   "metadata": {},
   "outputs": [
    {
     "data": {
      "text/plain": [
       "price\n",
       "Prix non spécifié    25\n",
       "1 500 000 DH          7\n",
       "1 550 000 DH          5\n",
       "800 000 DH            5\n",
       "1 100 000 DH          5\n",
       "                     ..\n",
       "1 030 000 DH          1\n",
       "2 070 000 DH          1\n",
       "845 500 DH            1\n",
       "1 012 000 DH          1\n",
       "660 000 DH            1\n",
       "Name: count, Length: 134, dtype: int64"
      ]
     },
     "execution_count": 72,
     "metadata": {},
     "output_type": "execute_result"
    }
   ],
   "source": [
    "avito_df[\"price\"].value_counts()"
   ]
  },
  {
   "cell_type": "markdown",
   "metadata": {},
   "source": [
    "`price` is optional but it can't be null, it contains the value \"Prix non spécifié\" instead. We can reformat the value to look at the numbers."
   ]
  },
  {
   "cell_type": "code",
   "execution_count": 86,
   "metadata": {},
   "outputs": [],
   "source": [
    "prices = avito_df[avito_df[\"price\"]!=\"Prix non spécifié\"][\"price\"]\n",
    "prices = prices.str.replace(\"DH\", \"\")\n",
    "prices = prices.str.replace(\"\\u202f\", \"\")\n",
    "prices = prices.astype(int)"
   ]
  },
  {
   "cell_type": "code",
   "execution_count": 95,
   "metadata": {},
   "outputs": [
    {
     "data": {
      "text/plain": [
       "count         188\n",
       "mean      1403872\n",
       "std       2326640\n",
       "min          6000\n",
       "25%        613750\n",
       "50%        931500\n",
       "75%       1605000\n",
       "max      29000000\n",
       "Name: price, dtype: int64"
      ]
     },
     "execution_count": 95,
     "metadata": {},
     "output_type": "execute_result"
    }
   ],
   "source": [
    "prices.describe().astype(int)"
   ]
  },
  {
   "cell_type": "markdown",
   "metadata": {},
   "source": [
    "The max value of 29.000.000 DH is very high for an appartement. We might consider removing outliers from the `price` column as well using a reasonable range."
   ]
  },
  {
   "cell_type": "code",
   "execution_count": 96,
   "metadata": {},
   "outputs": [
    {
     "data": {
      "text/plain": [
       "city\n",
       "Casablanca     74\n",
       "Marrakech      25\n",
       "Tanger         15\n",
       "Rabat          12\n",
       "Temara         11\n",
       "Kénitra        11\n",
       "Mohammedia      7\n",
       "Fès             7\n",
       "Salé            6\n",
       "Agadir          6\n",
       "Bouznika        5\n",
       "Meknès          4\n",
       "Saidia          4\n",
       "Bouskoura       3\n",
       "Tétouan         3\n",
       "El Jadida       3\n",
       "Asilah          2\n",
       "Martil          2\n",
       "Cabo Negro      2\n",
       "Laâyoune        1\n",
       "Taroudant       1\n",
       "Zenata          1\n",
       "Béni Mellal     1\n",
       "Berrechid       1\n",
       "Had Soualem     1\n",
       "Oujda           1\n",
       "Azemmour        1\n",
       "Sidi Rahal      1\n",
       "Deroua          1\n",
       "Dar Bouazza     1\n",
       "Name: count, dtype: int64"
      ]
     },
     "execution_count": 96,
     "metadata": {},
     "output_type": "execute_result"
    }
   ],
   "source": [
    "avito_df[\"city\"].value_counts()"
   ]
  },
  {
   "cell_type": "markdown",
   "metadata": {},
   "source": [
    "We will need to compare these values with the same colmun from the other datasets to make sure they are consistent."
   ]
  },
  {
   "cell_type": "code",
   "execution_count": 99,
   "metadata": {},
   "outputs": [
    {
     "data": {
      "text/plain": [
       "title\n",
       "Appartement à vendre 68 m² à Salé                     2\n",
       "Appartement a Vendre à Temara                         2\n",
       "apparemment neuf à vendre 63m²                        1\n",
       "شقة جميلة جدا بالطابق التاني اقامة مدينتي             1\n",
       "Appartement duplex 128 m² à Meknès                    1\n",
       "                                                     ..\n",
       "Appartement à vendre 85 m² à Tétouan                  1\n",
       "Appartement à Marina Blanca                           1\n",
       "Appartement à vendre 70 m² à florida                  1\n",
       "26598-Vente Appt à Casablanca Bourgogne (Anfa) de     1\n",
       "CMN-AS-1083 - Appartement à vendre à Roches Noires    1\n",
       "Name: count, Length: 211, dtype: int64"
      ]
     },
     "execution_count": 99,
     "metadata": {},
     "output_type": "execute_result"
    }
   ],
   "source": [
    "avito_df[\"title\"].value_counts()"
   ]
  },
  {
   "cell_type": "code",
   "execution_count": 100,
   "metadata": {},
   "outputs": [
    {
     "data": {
      "text/html": [
       "<div>\n",
       "<style scoped>\n",
       "    .dataframe tbody tr th:only-of-type {\n",
       "        vertical-align: middle;\n",
       "    }\n",
       "\n",
       "    .dataframe tbody tr th {\n",
       "        vertical-align: top;\n",
       "    }\n",
       "\n",
       "    .dataframe thead th {\n",
       "        text-align: right;\n",
       "    }\n",
       "</style>\n",
       "<table border=\"1\" class=\"dataframe\">\n",
       "  <thead>\n",
       "    <tr style=\"text-align: right;\">\n",
       "      <th></th>\n",
       "      <th>url</th>\n",
       "      <th>n_bedrooms</th>\n",
       "      <th>n_bathrooms</th>\n",
       "      <th>total_area</th>\n",
       "      <th>title</th>\n",
       "      <th>price</th>\n",
       "      <th>city</th>\n",
       "      <th>time</th>\n",
       "      <th>user</th>\n",
       "      <th>attributes</th>\n",
       "      <th>equipements</th>\n",
       "      <th>date_time</th>\n",
       "      <th>year</th>\n",
       "      <th>month</th>\n",
       "      <th>total_area_cleaned</th>\n",
       "      <th>price_cleaned</th>\n",
       "    </tr>\n",
       "  </thead>\n",
       "  <tbody>\n",
       "    <tr>\n",
       "      <th>7</th>\n",
       "      <td>https://www.avito.ma/fr/tabriquet/appartements...</td>\n",
       "      <td>2</td>\n",
       "      <td>1</td>\n",
       "      <td>90 m²</td>\n",
       "      <td>Appartement à vendre 68 m² à Salé</td>\n",
       "      <td>520 000 DH</td>\n",
       "      <td>Salé</td>\n",
       "      <td>il y a 31 minutes</td>\n",
       "      <td>mohamed</td>\n",
       "      <td>{'Type': 'Appartements, à vendre', 'Secteur': ...</td>\n",
       "      <td>[]</td>\n",
       "      <td>2024-10-12 19:00:00</td>\n",
       "      <td>2024</td>\n",
       "      <td>10</td>\n",
       "      <td>90</td>\n",
       "      <td>520000</td>\n",
       "    </tr>\n",
       "    <tr>\n",
       "      <th>120</th>\n",
       "      <td>https://www.avito.ma/fr/cherkaoui___marzouka/a...</td>\n",
       "      <td>2</td>\n",
       "      <td>1</td>\n",
       "      <td>68 m²</td>\n",
       "      <td>Appartement à vendre 68 m² à Salé</td>\n",
       "      <td>639 200 DH</td>\n",
       "      <td>Salé</td>\n",
       "      <td>il y a 2 heures</td>\n",
       "      <td>Les Oliviers</td>\n",
       "      <td>{'Type': 'Appartements, à vendre', 'Secteur': ...</td>\n",
       "      <td>[Climatisation, Concierge, Cuisine équipée, Pa...</td>\n",
       "      <td>2024-10-12 17:31:00</td>\n",
       "      <td>2024</td>\n",
       "      <td>10</td>\n",
       "      <td>68</td>\n",
       "      <td>639200</td>\n",
       "    </tr>\n",
       "  </tbody>\n",
       "</table>\n",
       "</div>"
      ],
      "text/plain": [
       "                                                   url  n_bedrooms  \\\n",
       "7    https://www.avito.ma/fr/tabriquet/appartements...           2   \n",
       "120  https://www.avito.ma/fr/cherkaoui___marzouka/a...           2   \n",
       "\n",
       "    n_bathrooms total_area                              title       price  \\\n",
       "7             1      90 m²  Appartement à vendre 68 m² à Salé  520 000 DH   \n",
       "120           1      68 m²  Appartement à vendre 68 m² à Salé  639 200 DH   \n",
       "\n",
       "     city               time          user  \\\n",
       "7    Salé  il y a 31 minutes       mohamed   \n",
       "120  Salé    il y a 2 heures  Les Oliviers   \n",
       "\n",
       "                                            attributes  \\\n",
       "7    {'Type': 'Appartements, à vendre', 'Secteur': ...   \n",
       "120  {'Type': 'Appartements, à vendre', 'Secteur': ...   \n",
       "\n",
       "                                           equipements           date_time  \\\n",
       "7                                                   [] 2024-10-12 19:00:00   \n",
       "120  [Climatisation, Concierge, Cuisine équipée, Pa... 2024-10-12 17:31:00   \n",
       "\n",
       "     year  month  total_area_cleaned  price_cleaned  \n",
       "7    2024     10                  90         520000  \n",
       "120  2024     10                  68         639200  "
      ]
     },
     "execution_count": 100,
     "metadata": {},
     "output_type": "execute_result"
    }
   ],
   "source": [
    "avito_df[avito_df[\"title\"]==\"Appartement à vendre 68 m² à Salé\"]"
   ]
  },
  {
   "cell_type": "markdown",
   "metadata": {},
   "source": [
    "We can't even refer to the `title` in order to determine duplicates. In this case, it wouldn't be interesting deduplicate the rows."
   ]
  },
  {
   "cell_type": "code",
   "execution_count": 101,
   "metadata": {},
   "outputs": [
    {
     "data": {
      "text/plain": [
       "user\n",
       "Yakeey                       24\n",
       "AGENZ.MA                     13\n",
       "promozin                      9\n",
       "Benmoussa immobilier          6\n",
       "Avito Immo Neuf               5\n",
       "                             ..\n",
       "OKTASI IMMOBOLIER             1\n",
       "Hamza Alaoui                  1\n",
       "SAKANI immobilier Kenitra     1\n",
       "Si Hmed                       1\n",
       "El Amrani                     1\n",
       "Name: count, Length: 136, dtype: int64"
      ]
     },
     "execution_count": 101,
     "metadata": {},
     "output_type": "execute_result"
    }
   ],
   "source": [
    "avito_df[\"user\"].value_counts()"
   ]
  },
  {
   "cell_type": "markdown",
   "metadata": {},
   "source": [
    "Analyzing the `user` to know who are the most active, but this would result in an analysis of the specific platform, which is out of the scope of this project, we would rather drop this column."
   ]
  },
  {
   "cell_type": "markdown",
   "metadata": {},
   "source": [
    "The `time` column has been extracted in order to help us determine the time of each announcement, which is represented by the `date_time`, `year` and `month` columns.\n",
    "Time is important and is a known factor for price changes in real estate, we would drop the `time` column since it serves no other purpose than helping us extract the actual date."
   ]
  },
  {
   "cell_type": "code",
   "execution_count": 102,
   "metadata": {},
   "outputs": [
    {
     "data": {
      "text/plain": [
       "0    {'Type': 'Appartements, à vendre', 'Secteur': ...\n",
       "1    {'Type': 'Appartements, à vendre', 'Secteur': ...\n",
       "2    {'Type': 'Appartements, à vendre', 'Secteur': ...\n",
       "3    {'Type': 'Appartements, à vendre', 'Secteur': ...\n",
       "4    {'Type': 'Appartements, à vendre', 'Secteur': ...\n",
       "Name: attributes, dtype: object"
      ]
     },
     "execution_count": 102,
     "metadata": {},
     "output_type": "execute_result"
    }
   ],
   "source": [
    "avito_df[\"attributes\"].head()"
   ]
  },
  {
   "cell_type": "markdown",
   "metadata": {},
   "source": [
    "`attributes` is an object column that contains a dictionary of attributes, we can extract the keys and values to inspect the data. This column can't contain null values since there are required attributes for each announcement."
   ]
  },
  {
   "cell_type": "code",
   "execution_count": 110,
   "metadata": {},
   "outputs": [
    {
     "data": {
      "text/html": [
       "<div>\n",
       "<style scoped>\n",
       "    .dataframe tbody tr th:only-of-type {\n",
       "        vertical-align: middle;\n",
       "    }\n",
       "\n",
       "    .dataframe tbody tr th {\n",
       "        vertical-align: top;\n",
       "    }\n",
       "\n",
       "    .dataframe thead th {\n",
       "        text-align: right;\n",
       "    }\n",
       "</style>\n",
       "<table border=\"1\" class=\"dataframe\">\n",
       "  <thead>\n",
       "    <tr style=\"text-align: right;\">\n",
       "      <th></th>\n",
       "      <th>url</th>\n",
       "      <th>n_bedrooms</th>\n",
       "      <th>n_bathrooms</th>\n",
       "      <th>total_area</th>\n",
       "      <th>title</th>\n",
       "      <th>price</th>\n",
       "      <th>city</th>\n",
       "      <th>time</th>\n",
       "      <th>user</th>\n",
       "      <th>attributes</th>\n",
       "      <th>...</th>\n",
       "      <th>month</th>\n",
       "      <th>total_area_cleaned</th>\n",
       "      <th>price_cleaned</th>\n",
       "      <th>Type</th>\n",
       "      <th>Secteur</th>\n",
       "      <th>Âge du bien</th>\n",
       "      <th>Frais de syndic / mois</th>\n",
       "      <th>Étage</th>\n",
       "      <th>Surface habitable</th>\n",
       "      <th>Salons</th>\n",
       "    </tr>\n",
       "  </thead>\n",
       "  <tbody>\n",
       "    <tr>\n",
       "      <th>0</th>\n",
       "      <td>https://www.avito.ma/fr/hay_chrifa/appartement...</td>\n",
       "      <td>1</td>\n",
       "      <td>1</td>\n",
       "      <td>72 m²</td>\n",
       "      <td>61292-Vente Appt à Casablanca Lekrimat de 72 m²</td>\n",
       "      <td>830 000 DH</td>\n",
       "      <td>Casablanca</td>\n",
       "      <td>il y a 8 minutes</td>\n",
       "      <td>Yakeey</td>\n",
       "      <td>{'Type': 'Appartements, à vendre', 'Secteur': ...</td>\n",
       "      <td>...</td>\n",
       "      <td>10</td>\n",
       "      <td>72</td>\n",
       "      <td>830000</td>\n",
       "      <td>Appartements, à vendre</td>\n",
       "      <td>Hay Chrifa</td>\n",
       "      <td>11-20 ans</td>\n",
       "      <td>2400</td>\n",
       "      <td>1</td>\n",
       "      <td>72</td>\n",
       "      <td>None</td>\n",
       "    </tr>\n",
       "    <tr>\n",
       "      <th>1</th>\n",
       "      <td>https://www.avito.ma/fr/hay_mohammadi/appartem...</td>\n",
       "      <td>2</td>\n",
       "      <td>1</td>\n",
       "      <td>None</td>\n",
       "      <td>apparemment neuf à vendre 63m²</td>\n",
       "      <td>Prix non spécifié</td>\n",
       "      <td>Agadir</td>\n",
       "      <td>il y a 36 minutes</td>\n",
       "      <td>Hemza IMMO</td>\n",
       "      <td>{'Type': 'Appartements, à vendre', 'Secteur': ...</td>\n",
       "      <td>...</td>\n",
       "      <td>10</td>\n",
       "      <td>0</td>\n",
       "      <td>0</td>\n",
       "      <td>Appartements, à vendre</td>\n",
       "      <td>Hay Mohammadi</td>\n",
       "      <td>Neuf</td>\n",
       "      <td>None</td>\n",
       "      <td>2</td>\n",
       "      <td>63</td>\n",
       "      <td>1</td>\n",
       "    </tr>\n",
       "    <tr>\n",
       "      <th>2</th>\n",
       "      <td>https://www.avito.ma/fr/sidi_bernoussi/apparte...</td>\n",
       "      <td>2</td>\n",
       "      <td>1</td>\n",
       "      <td>62 m²</td>\n",
       "      <td>شقة جميلة جدا بالطابق التاني اقامة مدينتي</td>\n",
       "      <td>340 000 DH</td>\n",
       "      <td>Casablanca</td>\n",
       "      <td>il y a 33 minutes</td>\n",
       "      <td>cimmo.ma</td>\n",
       "      <td>{'Type': 'Appartements, à vendre', 'Secteur': ...</td>\n",
       "      <td>...</td>\n",
       "      <td>10</td>\n",
       "      <td>62</td>\n",
       "      <td>340000</td>\n",
       "      <td>Appartements, à vendre</td>\n",
       "      <td>Sidi Bernoussi</td>\n",
       "      <td>None</td>\n",
       "      <td>None</td>\n",
       "      <td>2</td>\n",
       "      <td>62</td>\n",
       "      <td>1</td>\n",
       "    </tr>\n",
       "    <tr>\n",
       "      <th>3</th>\n",
       "      <td>https://www.avito.ma/fr/ville_nouvelle/apparte...</td>\n",
       "      <td>3</td>\n",
       "      <td>2</td>\n",
       "      <td>128 m²</td>\n",
       "      <td>Appartement duplex 128 m² à Meknès</td>\n",
       "      <td>Prix non spécifié</td>\n",
       "      <td>Meknès</td>\n",
       "      <td>il y a 34 minutes</td>\n",
       "      <td>Alaoui immobilier</td>\n",
       "      <td>{'Type': 'Appartements, à vendre', 'Secteur': ...</td>\n",
       "      <td>...</td>\n",
       "      <td>10</td>\n",
       "      <td>128</td>\n",
       "      <td>0</td>\n",
       "      <td>Appartements, à vendre</td>\n",
       "      <td>Ville Nouvelle</td>\n",
       "      <td>Neuf</td>\n",
       "      <td>None</td>\n",
       "      <td>3</td>\n",
       "      <td>128</td>\n",
       "      <td>1</td>\n",
       "    </tr>\n",
       "    <tr>\n",
       "      <th>4</th>\n",
       "      <td>https://www.avito.ma/fr/ville_verte/appartemen...</td>\n",
       "      <td>3</td>\n",
       "      <td>2</td>\n",
       "      <td>114 m²</td>\n",
       "      <td>Appartement haut standing à vendre à Bouskoura</td>\n",
       "      <td>1 480 000 DH</td>\n",
       "      <td>Bouskoura</td>\n",
       "      <td>il y a 33 minutes</td>\n",
       "      <td>ABDES</td>\n",
       "      <td>{'Type': 'Appartements, à vendre', 'Secteur': ...</td>\n",
       "      <td>...</td>\n",
       "      <td>10</td>\n",
       "      <td>114</td>\n",
       "      <td>1480000</td>\n",
       "      <td>Appartements, à vendre</td>\n",
       "      <td>Ville verte</td>\n",
       "      <td>Neuf</td>\n",
       "      <td>200</td>\n",
       "      <td>2</td>\n",
       "      <td>114</td>\n",
       "      <td>1</td>\n",
       "    </tr>\n",
       "  </tbody>\n",
       "</table>\n",
       "<p>5 rows × 23 columns</p>\n",
       "</div>"
      ],
      "text/plain": [
       "                                                 url  n_bedrooms n_bathrooms  \\\n",
       "0  https://www.avito.ma/fr/hay_chrifa/appartement...           1           1   \n",
       "1  https://www.avito.ma/fr/hay_mohammadi/appartem...           2           1   \n",
       "2  https://www.avito.ma/fr/sidi_bernoussi/apparte...           2           1   \n",
       "3  https://www.avito.ma/fr/ville_nouvelle/apparte...           3           2   \n",
       "4  https://www.avito.ma/fr/ville_verte/appartemen...           3           2   \n",
       "\n",
       "  total_area                                            title  \\\n",
       "0      72 m²  61292-Vente Appt à Casablanca Lekrimat de 72 m²   \n",
       "1       None                   apparemment neuf à vendre 63m²   \n",
       "2      62 m²       شقة جميلة جدا بالطابق التاني اقامة مدينتي    \n",
       "3     128 m²               Appartement duplex 128 m² à Meknès   \n",
       "4     114 m²   Appartement haut standing à vendre à Bouskoura   \n",
       "\n",
       "               price        city               time               user  \\\n",
       "0         830 000 DH  Casablanca   il y a 8 minutes             Yakeey   \n",
       "1  Prix non spécifié      Agadir  il y a 36 minutes         Hemza IMMO   \n",
       "2         340 000 DH  Casablanca  il y a 33 minutes           cimmo.ma   \n",
       "3  Prix non spécifié      Meknès  il y a 34 minutes  Alaoui immobilier   \n",
       "4       1 480 000 DH   Bouskoura  il y a 33 minutes              ABDES   \n",
       "\n",
       "                                          attributes  ... month  \\\n",
       "0  {'Type': 'Appartements, à vendre', 'Secteur': ...  ...    10   \n",
       "1  {'Type': 'Appartements, à vendre', 'Secteur': ...  ...    10   \n",
       "2  {'Type': 'Appartements, à vendre', 'Secteur': ...  ...    10   \n",
       "3  {'Type': 'Appartements, à vendre', 'Secteur': ...  ...    10   \n",
       "4  {'Type': 'Appartements, à vendre', 'Secteur': ...  ...    10   \n",
       "\n",
       "  total_area_cleaned  price_cleaned                    Type         Secteur  \\\n",
       "0                 72         830000  Appartements, à vendre      Hay Chrifa   \n",
       "1                  0              0  Appartements, à vendre   Hay Mohammadi   \n",
       "2                 62         340000  Appartements, à vendre  Sidi Bernoussi   \n",
       "3                128              0  Appartements, à vendre  Ville Nouvelle   \n",
       "4                114        1480000  Appartements, à vendre     Ville verte   \n",
       "\n",
       "   Âge du bien Frais de syndic / mois Étage Surface habitable Salons  \n",
       "0    11-20 ans                   2400     1                72   None  \n",
       "1         Neuf                   None     2                63      1  \n",
       "2         None                   None     2                62      1  \n",
       "3         Neuf                   None     3               128      1  \n",
       "4         Neuf                    200     2               114      1  \n",
       "\n",
       "[5 rows x 23 columns]"
      ]
     },
     "execution_count": 110,
     "metadata": {},
     "output_type": "execute_result"
    }
   ],
   "source": [
    "attributes_keys = set()\n",
    "for attribute in avito_df[\"attributes\"]:\n",
    "    if attribute is not None:\n",
    "        attributes_keys.update(attribute.keys())\n",
    "\n",
    "for attribute_key in attributes_keys:\n",
    "    avito_df[attribute_key] = avito_df[\"attributes\"].apply(\n",
    "        lambda x, key=attribute_key: x.get(key, None)\n",
    "    )\n",
    "\n",
    "avito_df.head()"
   ]
  },
  {
   "cell_type": "code",
   "execution_count": 112,
   "metadata": {},
   "outputs": [
    {
     "data": {
      "text/plain": [
       "Type\n",
       "Appartements, à vendre    213\n",
       "Name: count, dtype: int64"
      ]
     },
     "execution_count": 112,
     "metadata": {},
     "output_type": "execute_result"
    }
   ],
   "source": [
    "avito_df[\"Type\"].value_counts()\n",
    "# 1 value, indicating that the type of the property is an apartment"
   ]
  },
  {
   "cell_type": "code",
   "execution_count": 114,
   "metadata": {},
   "outputs": [
    {
     "data": {
      "text/plain": [
       "Secteur\n",
       "Toute la ville    22\n",
       "Autre secteur     16\n",
       "Bourgogne         15\n",
       "Guéliz            14\n",
       "Maarif             8\n",
       "                  ..\n",
       "Bachkou            1\n",
       "Malabata           1\n",
       "Narjis             1\n",
       "Oulfa              1\n",
       "Roches Noires      1\n",
       "Name: count, Length: 95, dtype: int64"
      ]
     },
     "execution_count": 114,
     "metadata": {},
     "output_type": "execute_result"
    }
   ],
   "source": [
    "avito_df[\"Secteur\"].value_counts()\n",
    "# we need to compare neighborhoods with the ones in the other datasets"
   ]
  },
  {
   "cell_type": "code",
   "execution_count": 115,
   "metadata": {},
   "outputs": [
    {
     "data": {
      "text/plain": [
       "Âge du bien\n",
       "Neuf         77\n",
       "6-10 ans     28\n",
       "11-20 ans    27\n",
       "21+ ans      20\n",
       "1-5 ans      17\n",
       "Name: count, dtype: int64"
      ]
     },
     "execution_count": 115,
     "metadata": {},
     "output_type": "execute_result"
    }
   ],
   "source": [
    "avito_df[\"Âge du bien\"].value_counts()"
   ]
  },
  {
   "cell_type": "code",
   "execution_count": 117,
   "metadata": {},
   "outputs": [
    {
     "data": {
      "text/plain": [
       "(np.int64(128),\n",
       " Frais de syndic / mois\n",
       " 100     14\n",
       " 300     14\n",
       " 200     11\n",
       " 150      8\n",
       " 250      6\n",
       " 50       4\n",
       " 2400     2\n",
       " 4200     2\n",
       " 3600     2\n",
       " 500      2\n",
       " 3000     2\n",
       " 1200     1\n",
       " 5000     1\n",
       " 7600     1\n",
       " 5500     1\n",
       " 4800     1\n",
       " 700      1\n",
       " 1        1\n",
       " 6100     1\n",
       " 120      1\n",
       " 80       1\n",
       " 130      1\n",
       " 60       1\n",
       " 550      1\n",
       " 850      1\n",
       " 49       1\n",
       " 400      1\n",
       " 30       1\n",
       " 180      1\n",
       " Name: count, dtype: int64)"
      ]
     },
     "execution_count": 117,
     "metadata": {},
     "output_type": "execute_result"
    }
   ],
   "source": [
    "(avito_df[\"Frais de syndic / mois\"].isnull().sum(),\n",
    "avito_df[\"Frais de syndic / mois\"].value_counts())\n",
    "# column mostly contains null values"
   ]
  },
  {
   "cell_type": "code",
   "execution_count": 120,
   "metadata": {},
   "outputs": [
    {
     "data": {
      "text/plain": [
       "Étage\n",
       "1                  55\n",
       "2                  49\n",
       "3                  38\n",
       "4                  32\n",
       "Rez de chaussée    16\n",
       "5                  11\n",
       "7+                  6\n",
       "6                   3\n",
       "8                   3\n",
       "Name: count, dtype: int64"
      ]
     },
     "execution_count": 120,
     "metadata": {},
     "output_type": "execute_result"
    }
   ],
   "source": [
    "avito_df[\"Étage\"].value_counts() # to be compared with the other datasets"
   ]
  },
  {
   "cell_type": "code",
   "execution_count": 133,
   "metadata": {},
   "outputs": [
    {
     "data": {
      "text/plain": [
       "(2,\n",
       " Surface habitable\n",
       " 60     7\n",
       " 110    6\n",
       " 120    5\n",
       " 140    5\n",
       " 68     5\n",
       "       ..\n",
       " 57     1\n",
       " 109    1\n",
       " 166    1\n",
       " 89     1\n",
       " 141    1\n",
       " Name: count, Length: 102, dtype: int64)"
      ]
     },
     "execution_count": 133,
     "metadata": {},
     "output_type": "execute_result"
    }
   ],
   "source": [
    "(int(avito_df[\"Surface habitable\"].isna().sum()),\n",
    " avito_df[\"Surface habitable\"].value_counts())\n",
    "# be careful with the outliers"
   ]
  },
  {
   "cell_type": "code",
   "execution_count": 134,
   "metadata": {},
   "outputs": [
    {
     "data": {
      "text/plain": [
       "Salons\n",
       "1     130\n",
       "2      44\n",
       "7+      1\n",
       "3       1\n",
       "Name: count, dtype: int64"
      ]
     },
     "execution_count": 134,
     "metadata": {},
     "output_type": "execute_result"
    }
   ],
   "source": [
    "avito_df[\"Salons\"].value_counts()"
   ]
  },
  {
   "cell_type": "code",
   "execution_count": 135,
   "metadata": {},
   "outputs": [
    {
     "data": {
      "text/plain": [
       "0    [Ascenseur, Balcon, Chauffage, Cuisine équipée...\n",
       "1             [Balcon, Climatisation, Cuisine équipée]\n",
       "2                                                   []\n",
       "3    [Ascenseur, Balcon, Concierge, Cuisine équipée...\n",
       "4    [Ascenseur, Balcon, Concierge, Cuisine équipée...\n",
       "Name: equipements, dtype: object"
      ]
     },
     "execution_count": 135,
     "metadata": {},
     "output_type": "execute_result"
    }
   ],
   "source": [
    "avito_df[\"equipements\"].head()"
   ]
  },
  {
   "cell_type": "markdown",
   "metadata": {},
   "source": [
    "For the `equipments` column, we can one hot encode the value of each equipment item. But in this step, we would only be interested to know what are the possible values, in order to know what to expect from the other datasets."
   ]
  },
  {
   "cell_type": "code",
   "execution_count": 157,
   "metadata": {},
   "outputs": [
    {
     "data": {
      "text/plain": [
       "['Afficher plus de détails',\n",
       " 'Ascenseur',\n",
       " 'Balcon',\n",
       " 'Chauffage',\n",
       " 'Climatisation',\n",
       " 'Concierge',\n",
       " 'Cuisine équipée',\n",
       " 'Duplex',\n",
       " 'Meublé',\n",
       " 'Parking',\n",
       " 'Sécurité',\n",
       " 'Terrasse']"
      ]
     },
     "execution_count": 157,
     "metadata": {},
     "output_type": "execute_result"
    }
   ],
   "source": [
    "equipments = set()\n",
    "for equipment in avito_df[\"equipements\"]:\n",
    "    if equipment is not None:\n",
    "        equipments.update(equipment)\n",
    "\n",
    "equipment_list = sorted(equipments)\n",
    "equipment_list"
   ]
  },
  {
   "cell_type": "markdown",
   "metadata": {},
   "source": [
    "\"Afficher plus de détails\" is an invalid equipment item, this is probably an edge case that was not caught during data extraction."
   ]
  },
  {
   "cell_type": "markdown",
   "metadata": {},
   "source": [
    "## Conclusion\n",
    "\n",
    "Here are the main takeaways from this overview:\n",
    "- Clean columns for type encoding: `total_area`, `living_area`, `price`, etc.\n",
    "- Filter columns for outliers: `n_bedrooms`, `total_area`, `price`, etc.\n",
    "- Compare columns holding the same information from the other datasets, to make sure they are consistent.\n",
    "- Drop columns that are not useful for the analysis: `user`, `time`, `Frais syndicat / mois`, etc."
   ]
  }
 ],
 "metadata": {
  "kernelspec": {
   "display_name": ".venv",
   "language": "python",
   "name": "python3"
  },
  "language_info": {
   "codemirror_mode": {
    "name": "ipython",
    "version": 3
   },
   "file_extension": ".py",
   "mimetype": "text/x-python",
   "name": "python",
   "nbconvert_exporter": "python",
   "pygments_lexer": "ipython3",
   "version": "3.11.5"
  }
 },
 "nbformat": 4,
 "nbformat_minor": 2
}
