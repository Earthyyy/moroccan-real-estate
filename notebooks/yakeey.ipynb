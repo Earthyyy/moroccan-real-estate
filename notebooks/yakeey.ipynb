{
 "cells": [
  {
   "cell_type": "markdown",
   "metadata": {},
   "source": [
    "# Yakeey Data\n",
    "\n",
    "This file is for inspecting and exploring data extracted from Yakeey."
   ]
  },
  {
   "cell_type": "code",
   "execution_count": 2,
   "metadata": {},
   "outputs": [],
   "source": [
    "import pandas as pd"
   ]
  },
  {
   "cell_type": "code",
   "execution_count": 3,
   "metadata": {},
   "outputs": [],
   "source": [
    "yakeey_df = pd.read_json(\"../data/yakeey/2024-10-12_yakeey.json\")"
   ]
  },
  {
   "cell_type": "code",
   "execution_count": 4,
   "metadata": {},
   "outputs": [
    {
     "data": {
      "text/html": [
       "<div>\n",
       "<style scoped>\n",
       "    .dataframe tbody tr th:only-of-type {\n",
       "        vertical-align: middle;\n",
       "    }\n",
       "\n",
       "    .dataframe tbody tr th {\n",
       "        vertical-align: top;\n",
       "    }\n",
       "\n",
       "    .dataframe thead th {\n",
       "        text-align: right;\n",
       "    }\n",
       "</style>\n",
       "<table border=\"1\" class=\"dataframe\">\n",
       "  <thead>\n",
       "    <tr style=\"text-align: right;\">\n",
       "      <th></th>\n",
       "      <th>url</th>\n",
       "      <th>type</th>\n",
       "      <th>price</th>\n",
       "      <th>neighborhood</th>\n",
       "      <th>city</th>\n",
       "      <th>title</th>\n",
       "      <th>reference</th>\n",
       "      <th>attributes</th>\n",
       "      <th>equipements</th>\n",
       "    </tr>\n",
       "  </thead>\n",
       "  <tbody>\n",
       "    <tr>\n",
       "      <th>0</th>\n",
       "      <td>https://yakeey.com/fr-ma/acheter-appartement-c...</td>\n",
       "      <td>Appartement</td>\n",
       "      <td>2 600 000 DH</td>\n",
       "      <td>Hopitaux</td>\n",
       "      <td>Casablanca</td>\n",
       "      <td>Appartement à vendre de 171 m² dont 159 m² hab...</td>\n",
       "      <td>CA001579</td>\n",
       "      <td>{'Nb. de chambres': '3', 'Nb. de salles de bai...</td>\n",
       "      <td>[Ascenseur, Interphone, Résidence fermée, Espa...</td>\n",
       "    </tr>\n",
       "    <tr>\n",
       "      <th>1</th>\n",
       "      <td>https://yakeey.com/fr-ma/acheter-appartement-c...</td>\n",
       "      <td>Appartement</td>\n",
       "      <td>3 900 000 DH</td>\n",
       "      <td>Maarif</td>\n",
       "      <td>Casablanca</td>\n",
       "      <td>Appartement à vendre de 230 m² dont 220 m² hab...</td>\n",
       "      <td>CA000311</td>\n",
       "      <td>{'Nb. de chambres': '3', 'Nb. de salles de bai...</td>\n",
       "      <td>[Ascenseur, Interphone, Résidence fermée, Pisc...</td>\n",
       "    </tr>\n",
       "    <tr>\n",
       "      <th>2</th>\n",
       "      <td>https://yakeey.com/fr-ma/acheter-appartement-m...</td>\n",
       "      <td>Appartement</td>\n",
       "      <td>650 000 DH</td>\n",
       "      <td>Hay el bahja</td>\n",
       "      <td>Marrakech</td>\n",
       "      <td>Appartement à vendre de 74 m²</td>\n",
       "      <td>MI063170</td>\n",
       "      <td>{'Nb. de chambres': '2', 'Nb. de salles de bai...</td>\n",
       "      <td>[Ascenseur, Agent de sécurité, Climatisation c...</td>\n",
       "    </tr>\n",
       "    <tr>\n",
       "      <th>3</th>\n",
       "      <td>https://yakeey.com/fr-ma/acheter-appartement-k...</td>\n",
       "      <td>Appartement</td>\n",
       "      <td>720 000 DH</td>\n",
       "      <td>La ville haute</td>\n",
       "      <td>Kénitra</td>\n",
       "      <td>Appartement à vendre de 77 m²</td>\n",
       "      <td>KI062829</td>\n",
       "      <td>{'Nb. de chambres': '1', 'Nb. de salles de bai...</td>\n",
       "      <td>[Ascenseur, Balcon, Terrasse, Place de parking...</td>\n",
       "    </tr>\n",
       "    <tr>\n",
       "      <th>4</th>\n",
       "      <td>https://yakeey.com/fr-ma/acheter-appartement-m...</td>\n",
       "      <td>Appartement</td>\n",
       "      <td>650 000 DH</td>\n",
       "      <td>Jardin de la koutoubia</td>\n",
       "      <td>Marrakech</td>\n",
       "      <td>Appartement meublé à vendre de 74 m²</td>\n",
       "      <td>MA063043</td>\n",
       "      <td>{'Nb. de chambres': '2', 'Nb. de salles de bai...</td>\n",
       "      <td>[Ascenseur, Résidence fermée, Concierge, Clima...</td>\n",
       "    </tr>\n",
       "  </tbody>\n",
       "</table>\n",
       "</div>"
      ],
      "text/plain": [
       "                                                 url         type  \\\n",
       "0  https://yakeey.com/fr-ma/acheter-appartement-c...  Appartement   \n",
       "1  https://yakeey.com/fr-ma/acheter-appartement-c...  Appartement   \n",
       "2  https://yakeey.com/fr-ma/acheter-appartement-m...  Appartement   \n",
       "3  https://yakeey.com/fr-ma/acheter-appartement-k...  Appartement   \n",
       "4  https://yakeey.com/fr-ma/acheter-appartement-m...  Appartement   \n",
       "\n",
       "          price             neighborhood        city  \\\n",
       "0  2 600 000 DH                 Hopitaux  Casablanca   \n",
       "1  3 900 000 DH                   Maarif  Casablanca   \n",
       "2    650 000 DH            Hay el bahja    Marrakech   \n",
       "3    720 000 DH           La ville haute     Kénitra   \n",
       "4    650 000 DH  Jardin de la koutoubia    Marrakech   \n",
       "\n",
       "                                               title reference  \\\n",
       "0  Appartement à vendre de 171 m² dont 159 m² hab...  CA001579   \n",
       "1  Appartement à vendre de 230 m² dont 220 m² hab...  CA000311   \n",
       "2                      Appartement à vendre de 74 m²  MI063170   \n",
       "3                      Appartement à vendre de 77 m²  KI062829   \n",
       "4               Appartement meublé à vendre de 74 m²  MA063043   \n",
       "\n",
       "                                          attributes  \\\n",
       "0  {'Nb. de chambres': '3', 'Nb. de salles de bai...   \n",
       "1  {'Nb. de chambres': '3', 'Nb. de salles de bai...   \n",
       "2  {'Nb. de chambres': '2', 'Nb. de salles de bai...   \n",
       "3  {'Nb. de chambres': '1', 'Nb. de salles de bai...   \n",
       "4  {'Nb. de chambres': '2', 'Nb. de salles de bai...   \n",
       "\n",
       "                                         equipements  \n",
       "0  [Ascenseur, Interphone, Résidence fermée, Espa...  \n",
       "1  [Ascenseur, Interphone, Résidence fermée, Pisc...  \n",
       "2  [Ascenseur, Agent de sécurité, Climatisation c...  \n",
       "3  [Ascenseur, Balcon, Terrasse, Place de parking...  \n",
       "4  [Ascenseur, Résidence fermée, Concierge, Clima...  "
      ]
     },
     "execution_count": 4,
     "metadata": {},
     "output_type": "execute_result"
    }
   ],
   "source": [
    "yakeey_df.head()"
   ]
  },
  {
   "cell_type": "code",
   "execution_count": 5,
   "metadata": {},
   "outputs": [
    {
     "data": {
      "text/plain": [
       "Index(['url', 'type', 'price', 'neighborhood', 'city', 'title', 'reference',\n",
       "       'attributes', 'equipements'],\n",
       "      dtype='object')"
      ]
     },
     "execution_count": 5,
     "metadata": {},
     "output_type": "execute_result"
    }
   ],
   "source": [
    "yakeey_df.columns"
   ]
  },
  {
   "cell_type": "code",
   "execution_count": 6,
   "metadata": {},
   "outputs": [
    {
     "data": {
      "text/plain": [
       "type\n",
       "Appartement    177\n",
       "Duplex           6\n",
       "Studio           6\n",
       "Triplex          3\n",
       "Name: count, dtype: int64"
      ]
     },
     "execution_count": 6,
     "metadata": {},
     "output_type": "execute_result"
    }
   ],
   "source": [
    "yakeey_df[\"type\"].value_counts()"
   ]
  },
  {
   "cell_type": "markdown",
   "metadata": {},
   "source": [
    "All of these values of `type` refer to appartments, since these are the main types of properties we are working with. We might make a distinction between:\n",
    "- \"Studio\": being a single room appartment\n",
    "- \"Appartment\": being a regular appartment with multiple rooms\n",
    "- \"Duplex/Triplex\": being a two or more story appartment"
   ]
  },
  {
   "cell_type": "code",
   "execution_count": 9,
   "metadata": {},
   "outputs": [
    {
     "data": {
      "text/plain": [
       "0    2 600 000 DH\n",
       "1    3 900 000 DH\n",
       "2      650 000 DH\n",
       "3      720 000 DH\n",
       "4      650 000 DH\n",
       "Name: price, dtype: object"
      ]
     },
     "execution_count": 9,
     "metadata": {},
     "output_type": "execute_result"
    }
   ],
   "source": [
    "yakeey_df[\"price\"].head()"
   ]
  },
  {
   "cell_type": "code",
   "execution_count": 10,
   "metadata": {},
   "outputs": [],
   "source": [
    "prices = yakeey_df[\"price\"].str.replace(\"DH\", \"\").str.replace(\" \", \"\").astype(int)"
   ]
  },
  {
   "cell_type": "code",
   "execution_count": 12,
   "metadata": {},
   "outputs": [
    {
     "data": {
      "text/plain": [
       "count         192\n",
       "mean      1796000\n",
       "std       1239900\n",
       "min        500000\n",
       "25%       1000000\n",
       "50%       1478000\n",
       "75%       2112500\n",
       "max      10000000\n",
       "Name: price, dtype: int64"
      ]
     },
     "execution_count": 12,
     "metadata": {},
     "output_type": "execute_result"
    }
   ],
   "source": [
    "prices.describe().astype(int)"
   ]
  },
  {
   "cell_type": "markdown",
   "metadata": {},
   "source": [
    "As mentioned in the scraping module, the quality of the data from Yakeey is very good, due to the fact that every single announcement is manually checked by real estate consultants. This means that we wouldn't need to make any filtering for potential outliers. Even further, we can rely on this data to determine rules for controling quality from other sources."
   ]
  },
  {
   "cell_type": "code",
   "execution_count": 21,
   "metadata": {},
   "outputs": [
    {
     "data": {
      "text/plain": [
       "city\n",
       "Casablanca     146\n",
       "Tanger           9\n",
       "Témara           5\n",
       "Dar bouazza      5\n",
       "Kénitra          4\n",
       "Marrakech        4\n",
       "Salé             4\n",
       "Sidi rahal       3\n",
       "Bouznika         3\n",
       "Rabat            3\n",
       "Mohammédia       2\n",
       "                 2\n",
       "Harhoura         1\n",
       "El jadida        1\n",
       "Name: count, dtype: int64"
      ]
     },
     "execution_count": 21,
     "metadata": {},
     "output_type": "execute_result"
    }
   ],
   "source": [
    "yakeey_df[\"city\"].value_counts()"
   ]
  },
  {
   "cell_type": "markdown",
   "metadata": {},
   "source": [
    "`city` contains 2 missing values, it may be useful to fill them with the most common value since they are very rare and the mode is very frequent.\n",
    "We also need to compare the city names for consistency."
   ]
  },
  {
   "cell_type": "code",
   "execution_count": 24,
   "metadata": {},
   "outputs": [
    {
     "data": {
      "text/plain": [
       "neighborhood\n",
       "Derb omar           12\n",
       "Hopitaux            10\n",
       "Val fleury           9\n",
       "Maarif extension     8\n",
       "Maarif               8\n",
       "                    ..\n",
       "Annasr               1\n",
       "Koudiat laabid       1\n",
       "Hay moumen           1\n",
       "Lalla chafia         1\n",
       "Hay charaf           1\n",
       "Name: count, Length: 83, dtype: int64"
      ]
     },
     "execution_count": 24,
     "metadata": {},
     "output_type": "execute_result"
    }
   ],
   "source": [
    "yakeey_df[\"neighborhood\"].value_counts()"
   ]
  },
  {
   "cell_type": "code",
   "execution_count": 25,
   "metadata": {},
   "outputs": [
    {
     "data": {
      "text/html": [
       "<div>\n",
       "<style scoped>\n",
       "    .dataframe tbody tr th:only-of-type {\n",
       "        vertical-align: middle;\n",
       "    }\n",
       "\n",
       "    .dataframe tbody tr th {\n",
       "        vertical-align: top;\n",
       "    }\n",
       "\n",
       "    .dataframe thead th {\n",
       "        text-align: right;\n",
       "    }\n",
       "</style>\n",
       "<table border=\"1\" class=\"dataframe\">\n",
       "  <thead>\n",
       "    <tr style=\"text-align: right;\">\n",
       "      <th></th>\n",
       "      <th>url</th>\n",
       "      <th>type</th>\n",
       "      <th>price</th>\n",
       "      <th>neighborhood</th>\n",
       "      <th>city</th>\n",
       "      <th>title</th>\n",
       "      <th>reference</th>\n",
       "      <th>attributes</th>\n",
       "      <th>equipements</th>\n",
       "    </tr>\n",
       "  </thead>\n",
       "  <tbody>\n",
       "    <tr>\n",
       "      <th>88</th>\n",
       "      <td>https://yakeey.com/fr-ma/acheter-appartement-I...</td>\n",
       "      <td>Appartement</td>\n",
       "      <td>725 000 DH</td>\n",
       "      <td></td>\n",
       "      <td></td>\n",
       "      <td>Appartement à vendre de 64 m²</td>\n",
       "      <td>II063966</td>\n",
       "      <td>{}</td>\n",
       "      <td>[Prix de vente, 725 000  DH, Frais et charges ...</td>\n",
       "    </tr>\n",
       "    <tr>\n",
       "      <th>133</th>\n",
       "      <td>https://yakeey.com/fr-ma/acheter-appartement-I...</td>\n",
       "      <td>Appartement</td>\n",
       "      <td>2 010 000 DH</td>\n",
       "      <td></td>\n",
       "      <td></td>\n",
       "      <td>Appartement à vendre de 144 m²</td>\n",
       "      <td>II063583</td>\n",
       "      <td>{}</td>\n",
       "      <td>[]</td>\n",
       "    </tr>\n",
       "  </tbody>\n",
       "</table>\n",
       "</div>"
      ],
      "text/plain": [
       "                                                   url         type  \\\n",
       "88   https://yakeey.com/fr-ma/acheter-appartement-I...  Appartement   \n",
       "133  https://yakeey.com/fr-ma/acheter-appartement-I...  Appartement   \n",
       "\n",
       "            price neighborhood city                           title reference  \\\n",
       "88     725 000 DH                     Appartement à vendre de 64 m²  II063966   \n",
       "133  2 010 000 DH                    Appartement à vendre de 144 m²  II063583   \n",
       "\n",
       "    attributes                                        equipements  \n",
       "88          {}  [Prix de vente, 725 000  DH, Frais et charges ...  \n",
       "133         {}                                                 []  "
      ]
     },
     "execution_count": 25,
     "metadata": {},
     "output_type": "execute_result"
    }
   ],
   "source": [
    "yakeey_df[yakeey_df[\"neighborhood\"] == \"\"]"
   ]
  },
  {
   "cell_type": "markdown",
   "metadata": {},
   "source": [
    "Here again, we need to think of a strategy for the missing values, and make the comparion between neighborhoods from different sources."
   ]
  },
  {
   "cell_type": "markdown",
   "metadata": {},
   "source": [
    "`title` and `reference` are unique to the platform, `reference` to determine the uniqueness of the announcement for the delta load, we don't need to do anything with them."
   ]
  },
  {
   "cell_type": "code",
   "execution_count": 26,
   "metadata": {},
   "outputs": [
    {
     "data": {
      "text/plain": [
       "0    {'Nb. de chambres': '3', 'Nb. de salles de bai...\n",
       "1    {'Nb. de chambres': '3', 'Nb. de salles de bai...\n",
       "2    {'Nb. de chambres': '2', 'Nb. de salles de bai...\n",
       "3    {'Nb. de chambres': '1', 'Nb. de salles de bai...\n",
       "4    {'Nb. de chambres': '2', 'Nb. de salles de bai...\n",
       "Name: attributes, dtype: object"
      ]
     },
     "execution_count": 26,
     "metadata": {},
     "output_type": "execute_result"
    }
   ],
   "source": [
    "yakeey_df[\"attributes\"].head()"
   ]
  },
  {
   "cell_type": "code",
   "execution_count": 28,
   "metadata": {},
   "outputs": [
    {
     "data": {
      "text/html": [
       "<div>\n",
       "<style scoped>\n",
       "    .dataframe tbody tr th:only-of-type {\n",
       "        vertical-align: middle;\n",
       "    }\n",
       "\n",
       "    .dataframe tbody tr th {\n",
       "        vertical-align: top;\n",
       "    }\n",
       "\n",
       "    .dataframe thead th {\n",
       "        text-align: right;\n",
       "    }\n",
       "</style>\n",
       "<table border=\"1\" class=\"dataframe\">\n",
       "  <thead>\n",
       "    <tr style=\"text-align: right;\">\n",
       "      <th></th>\n",
       "      <th>url</th>\n",
       "      <th>type</th>\n",
       "      <th>price</th>\n",
       "      <th>neighborhood</th>\n",
       "      <th>city</th>\n",
       "      <th>title</th>\n",
       "      <th>reference</th>\n",
       "      <th>attributes</th>\n",
       "      <th>equipements</th>\n",
       "      <th>Places de parking extérieur</th>\n",
       "      <th>...</th>\n",
       "      <th>Orientation</th>\n",
       "      <th>Surface balcon</th>\n",
       "      <th>Surface box titré</th>\n",
       "      <th>Étage du bien</th>\n",
       "      <th>Nb. de chambres</th>\n",
       "      <th>Nb. de salles d'eau</th>\n",
       "      <th>Nb. de façades</th>\n",
       "      <th>Vue</th>\n",
       "      <th>Nb. d'étages dans l'immeuble</th>\n",
       "      <th>Surface totale</th>\n",
       "    </tr>\n",
       "  </thead>\n",
       "  <tbody>\n",
       "    <tr>\n",
       "      <th>0</th>\n",
       "      <td>https://yakeey.com/fr-ma/acheter-appartement-c...</td>\n",
       "      <td>Appartement</td>\n",
       "      <td>2 600 000 DH</td>\n",
       "      <td>Hopitaux</td>\n",
       "      <td>Casablanca</td>\n",
       "      <td>Appartement à vendre de 171 m² dont 159 m² hab...</td>\n",
       "      <td>CA001579</td>\n",
       "      <td>{'Nb. de chambres': '3', 'Nb. de salles de bai...</td>\n",
       "      <td>[Ascenseur, Interphone, Résidence fermée, Espa...</td>\n",
       "      <td>None</td>\n",
       "      <td>...</td>\n",
       "      <td>None</td>\n",
       "      <td>None</td>\n",
       "      <td>None</td>\n",
       "      <td>3</td>\n",
       "      <td>3</td>\n",
       "      <td>1</td>\n",
       "      <td>None</td>\n",
       "      <td>None</td>\n",
       "      <td>7</td>\n",
       "      <td>171 m²</td>\n",
       "    </tr>\n",
       "    <tr>\n",
       "      <th>1</th>\n",
       "      <td>https://yakeey.com/fr-ma/acheter-appartement-c...</td>\n",
       "      <td>Appartement</td>\n",
       "      <td>3 900 000 DH</td>\n",
       "      <td>Maarif</td>\n",
       "      <td>Casablanca</td>\n",
       "      <td>Appartement à vendre de 230 m² dont 220 m² hab...</td>\n",
       "      <td>CA000311</td>\n",
       "      <td>{'Nb. de chambres': '3', 'Nb. de salles de bai...</td>\n",
       "      <td>[Ascenseur, Interphone, Résidence fermée, Pisc...</td>\n",
       "      <td>None</td>\n",
       "      <td>...</td>\n",
       "      <td>Sud-Ouest</td>\n",
       "      <td>None</td>\n",
       "      <td>None</td>\n",
       "      <td>7</td>\n",
       "      <td>3</td>\n",
       "      <td>2</td>\n",
       "      <td>2</td>\n",
       "      <td>Vue dégagée</td>\n",
       "      <td>8</td>\n",
       "      <td>230 m²</td>\n",
       "    </tr>\n",
       "    <tr>\n",
       "      <th>2</th>\n",
       "      <td>https://yakeey.com/fr-ma/acheter-appartement-m...</td>\n",
       "      <td>Appartement</td>\n",
       "      <td>650 000 DH</td>\n",
       "      <td>Hay el bahja</td>\n",
       "      <td>Marrakech</td>\n",
       "      <td>Appartement à vendre de 74 m²</td>\n",
       "      <td>MI063170</td>\n",
       "      <td>{'Nb. de chambres': '2', 'Nb. de salles de bai...</td>\n",
       "      <td>[Ascenseur, Agent de sécurité, Climatisation c...</td>\n",
       "      <td>None</td>\n",
       "      <td>...</td>\n",
       "      <td>None</td>\n",
       "      <td>None</td>\n",
       "      <td>None</td>\n",
       "      <td>1</td>\n",
       "      <td>2</td>\n",
       "      <td>None</td>\n",
       "      <td>None</td>\n",
       "      <td>None</td>\n",
       "      <td>3</td>\n",
       "      <td>74 m²</td>\n",
       "    </tr>\n",
       "    <tr>\n",
       "      <th>3</th>\n",
       "      <td>https://yakeey.com/fr-ma/acheter-appartement-k...</td>\n",
       "      <td>Appartement</td>\n",
       "      <td>720 000 DH</td>\n",
       "      <td>La ville haute</td>\n",
       "      <td>Kénitra</td>\n",
       "      <td>Appartement à vendre de 77 m²</td>\n",
       "      <td>KI062829</td>\n",
       "      <td>{'Nb. de chambres': '1', 'Nb. de salles de bai...</td>\n",
       "      <td>[Ascenseur, Balcon, Terrasse, Place de parking...</td>\n",
       "      <td>None</td>\n",
       "      <td>...</td>\n",
       "      <td>None</td>\n",
       "      <td>None</td>\n",
       "      <td>None</td>\n",
       "      <td>8</td>\n",
       "      <td>1</td>\n",
       "      <td>None</td>\n",
       "      <td>2</td>\n",
       "      <td>Vue dégagée</td>\n",
       "      <td>8</td>\n",
       "      <td>77 m²</td>\n",
       "    </tr>\n",
       "    <tr>\n",
       "      <th>4</th>\n",
       "      <td>https://yakeey.com/fr-ma/acheter-appartement-m...</td>\n",
       "      <td>Appartement</td>\n",
       "      <td>650 000 DH</td>\n",
       "      <td>Jardin de la koutoubia</td>\n",
       "      <td>Marrakech</td>\n",
       "      <td>Appartement meublé à vendre de 74 m²</td>\n",
       "      <td>MA063043</td>\n",
       "      <td>{'Nb. de chambres': '2', 'Nb. de salles de bai...</td>\n",
       "      <td>[Ascenseur, Résidence fermée, Concierge, Clima...</td>\n",
       "      <td>None</td>\n",
       "      <td>...</td>\n",
       "      <td>Nord</td>\n",
       "      <td>None</td>\n",
       "      <td>None</td>\n",
       "      <td>3</td>\n",
       "      <td>2</td>\n",
       "      <td>None</td>\n",
       "      <td>1</td>\n",
       "      <td>None</td>\n",
       "      <td>5</td>\n",
       "      <td>74 m²</td>\n",
       "    </tr>\n",
       "  </tbody>\n",
       "</table>\n",
       "<p>5 rows × 27 columns</p>\n",
       "</div>"
      ],
      "text/plain": [
       "                                                 url         type  \\\n",
       "0  https://yakeey.com/fr-ma/acheter-appartement-c...  Appartement   \n",
       "1  https://yakeey.com/fr-ma/acheter-appartement-c...  Appartement   \n",
       "2  https://yakeey.com/fr-ma/acheter-appartement-m...  Appartement   \n",
       "3  https://yakeey.com/fr-ma/acheter-appartement-k...  Appartement   \n",
       "4  https://yakeey.com/fr-ma/acheter-appartement-m...  Appartement   \n",
       "\n",
       "          price             neighborhood        city  \\\n",
       "0  2 600 000 DH                 Hopitaux  Casablanca   \n",
       "1  3 900 000 DH                   Maarif  Casablanca   \n",
       "2    650 000 DH            Hay el bahja    Marrakech   \n",
       "3    720 000 DH           La ville haute     Kénitra   \n",
       "4    650 000 DH  Jardin de la koutoubia    Marrakech   \n",
       "\n",
       "                                               title reference  \\\n",
       "0  Appartement à vendre de 171 m² dont 159 m² hab...  CA001579   \n",
       "1  Appartement à vendre de 230 m² dont 220 m² hab...  CA000311   \n",
       "2                      Appartement à vendre de 74 m²  MI063170   \n",
       "3                      Appartement à vendre de 77 m²  KI062829   \n",
       "4               Appartement meublé à vendre de 74 m²  MA063043   \n",
       "\n",
       "                                          attributes  \\\n",
       "0  {'Nb. de chambres': '3', 'Nb. de salles de bai...   \n",
       "1  {'Nb. de chambres': '3', 'Nb. de salles de bai...   \n",
       "2  {'Nb. de chambres': '2', 'Nb. de salles de bai...   \n",
       "3  {'Nb. de chambres': '1', 'Nb. de salles de bai...   \n",
       "4  {'Nb. de chambres': '2', 'Nb. de salles de bai...   \n",
       "\n",
       "                                         equipements  \\\n",
       "0  [Ascenseur, Interphone, Résidence fermée, Espa...   \n",
       "1  [Ascenseur, Interphone, Résidence fermée, Pisc...   \n",
       "2  [Ascenseur, Agent de sécurité, Climatisation c...   \n",
       "3  [Ascenseur, Balcon, Terrasse, Place de parking...   \n",
       "4  [Ascenseur, Résidence fermée, Concierge, Clima...   \n",
       "\n",
       "  Places de parking extérieur  ... Orientation Surface balcon  \\\n",
       "0                        None  ...        None           None   \n",
       "1                        None  ...   Sud-Ouest           None   \n",
       "2                        None  ...        None           None   \n",
       "3                        None  ...        None           None   \n",
       "4                        None  ...        Nord           None   \n",
       "\n",
       "  Surface box titré Étage du bien Nb. de chambres Nb. de salles d'eau  \\\n",
       "0              None             3               3                   1   \n",
       "1              None             7               3                   2   \n",
       "2              None             1               2                None   \n",
       "3              None             8               1                None   \n",
       "4              None             3               2                None   \n",
       "\n",
       "  Nb. de façades          Vue Nb. d'étages dans l'immeuble Surface totale  \n",
       "0           None         None                            7         171 m²  \n",
       "1              2  Vue dégagée                            8         230 m²  \n",
       "2           None         None                            3          74 m²  \n",
       "3              2  Vue dégagée                            8          77 m²  \n",
       "4              1         None                            5          74 m²  \n",
       "\n",
       "[5 rows x 27 columns]"
      ]
     },
     "execution_count": 28,
     "metadata": {},
     "output_type": "execute_result"
    }
   ],
   "source": [
    "attributes_keys = set()\n",
    "for attribute in yakeey_df[\"attributes\"]:\n",
    "    if attribute is not None:\n",
    "        attributes_keys.update(attribute.keys())\n",
    "\n",
    "for attribute_key in attributes_keys:\n",
    "    yakeey_df[attribute_key] = yakeey_df[\"attributes\"].apply(\n",
    "        lambda x, key=attribute_key: x.get(key, None)\n",
    "    )\n",
    "\n",
    "yakeey_df.head()"
   ]
  },
  {
   "cell_type": "code",
   "execution_count": 30,
   "metadata": {},
   "outputs": [
    {
     "data": {
      "text/plain": [
       "Index(['Places de parking extérieur', 'Surface solarium',\n",
       "       'Nb. de salles de bains', 'Surface habitable',\n",
       "       'Places de parking en sous-sol', 'Résidence fermée', 'Surface terrasse',\n",
       "       'Frais de syndic (DH/an)', 'Orientation', 'Surface balcon',\n",
       "       'Surface box titré', 'Étage du bien', 'Nb. de chambres',\n",
       "       'Nb. de salles d'eau', 'Nb. de façades', 'Vue',\n",
       "       'Nb. d'étages dans l'immeuble', 'Surface totale'],\n",
       "      dtype='object')"
      ]
     },
     "execution_count": 30,
     "metadata": {},
     "output_type": "execute_result"
    }
   ],
   "source": [
    "yakeey_df.columns[-len(attributes_keys):]"
   ]
  },
  {
   "cell_type": "markdown",
   "metadata": {},
   "source": [
    "We see already that many of these attributes don't exist in the other sources, for simplicity we will keep the following:\n",
    "- `Nb. de salles de bains`\n",
    "- `Surface habitable`\n",
    "- `Étage du bien`\n",
    "- `Nb. de chambres`\n",
    "- `Nb. de salles d'eau`\n",
    "- `Surface totale`"
   ]
  },
  {
   "cell_type": "code",
   "execution_count": 31,
   "metadata": {},
   "outputs": [
    {
     "data": {
      "text/plain": [
       "Nb. de salles d'eau\n",
       "1    49\n",
       "2    10\n",
       "3     3\n",
       "Name: count, dtype: int64"
      ]
     },
     "execution_count": 31,
     "metadata": {},
     "output_type": "execute_result"
    }
   ],
   "source": [
    "yakeey_df[\"Nb. de salles d'eau\"].value_counts()"
   ]
  },
  {
   "cell_type": "code",
   "execution_count": 32,
   "metadata": {},
   "outputs": [
    {
     "data": {
      "text/plain": [
       "Nb. de salles de bains\n",
       "2    106\n",
       "1     63\n",
       "3     17\n",
       "4      2\n",
       "6      1\n",
       "Name: count, dtype: int64"
      ]
     },
     "execution_count": 32,
     "metadata": {},
     "output_type": "execute_result"
    }
   ],
   "source": [
    "yakeey_df[\"Nb. de salles de bains\"].value_counts()"
   ]
  },
  {
   "cell_type": "markdown",
   "metadata": {},
   "source": [
    "For simplicity, we can further only keep `Nb. de salles d'eau`, which corresponds to the number of bathrooms."
   ]
  },
  {
   "cell_type": "code",
   "execution_count": 62,
   "metadata": {},
   "outputs": [
    {
     "data": {
      "text/plain": [
       "count    190\n",
       "mean     122\n",
       "std       72\n",
       "min       43\n",
       "25%       84\n",
       "50%      108\n",
       "75%      138\n",
       "max      705\n",
       "Name: Surface habitable, dtype: int64"
      ]
     },
     "execution_count": 62,
     "metadata": {},
     "output_type": "execute_result"
    }
   ],
   "source": [
    "living_areas = (yakeey_df.loc[yakeey_df[\"Surface habitable\"].notnull(), \"Surface habitable\"]\n",
    "                .str.replace(\" m²\", \"\").astype(int))\n",
    "living_areas.describe().astype(int)"
   ]
  },
  {
   "cell_type": "markdown",
   "metadata": {},
   "source": [
    "Be careful with the missing values."
   ]
  },
  {
   "cell_type": "code",
   "execution_count": 63,
   "metadata": {},
   "outputs": [
    {
     "data": {
      "text/plain": [
       "Étage du bien\n",
       "1                  40\n",
       "3                  34\n",
       "2                  32\n",
       "4                  25\n",
       "5                  25\n",
       "Rez-de-chaussée    17\n",
       "7                   6\n",
       "6                   5\n",
       "8                   4\n",
       "9                   1\n",
       "12                  1\n",
       "Name: count, dtype: int64"
      ]
     },
     "execution_count": 63,
     "metadata": {},
     "output_type": "execute_result"
    }
   ],
   "source": [
    "yakeey_df[\"Étage du bien\"].value_counts()"
   ]
  },
  {
   "cell_type": "code",
   "execution_count": 65,
   "metadata": {},
   "outputs": [
    {
     "data": {
      "text/plain": [
       "Nb. de chambres\n",
       "3    89\n",
       "2    68\n",
       "4    18\n",
       "1    12\n",
       "5     1\n",
       "6     1\n",
       "7     1\n",
       "Name: count, dtype: int64"
      ]
     },
     "execution_count": 65,
     "metadata": {},
     "output_type": "execute_result"
    }
   ],
   "source": [
    "yakeey_df[\"Nb. de chambres\"].value_counts()"
   ]
  },
  {
   "cell_type": "code",
   "execution_count": 71,
   "metadata": {},
   "outputs": [
    {
     "data": {
      "text/html": [
       "<div>\n",
       "<style scoped>\n",
       "    .dataframe tbody tr th:only-of-type {\n",
       "        vertical-align: middle;\n",
       "    }\n",
       "\n",
       "    .dataframe tbody tr th {\n",
       "        vertical-align: top;\n",
       "    }\n",
       "\n",
       "    .dataframe thead th {\n",
       "        text-align: right;\n",
       "    }\n",
       "</style>\n",
       "<table border=\"1\" class=\"dataframe\">\n",
       "  <thead>\n",
       "    <tr style=\"text-align: right;\">\n",
       "      <th></th>\n",
       "      <th>url</th>\n",
       "      <th>type</th>\n",
       "      <th>price</th>\n",
       "      <th>neighborhood</th>\n",
       "      <th>city</th>\n",
       "      <th>title</th>\n",
       "      <th>reference</th>\n",
       "      <th>attributes</th>\n",
       "      <th>equipements</th>\n",
       "      <th>Places de parking extérieur</th>\n",
       "      <th>...</th>\n",
       "      <th>Orientation</th>\n",
       "      <th>Surface balcon</th>\n",
       "      <th>Surface box titré</th>\n",
       "      <th>Étage du bien</th>\n",
       "      <th>Nb. de chambres</th>\n",
       "      <th>Nb. de salles d'eau</th>\n",
       "      <th>Nb. de façades</th>\n",
       "      <th>Vue</th>\n",
       "      <th>Nb. d'étages dans l'immeuble</th>\n",
       "      <th>Surface totale</th>\n",
       "    </tr>\n",
       "  </thead>\n",
       "  <tbody>\n",
       "    <tr>\n",
       "      <th>88</th>\n",
       "      <td>https://yakeey.com/fr-ma/acheter-appartement-I...</td>\n",
       "      <td>Appartement</td>\n",
       "      <td>725 000 DH</td>\n",
       "      <td></td>\n",
       "      <td></td>\n",
       "      <td>Appartement à vendre de 64 m²</td>\n",
       "      <td>II063966</td>\n",
       "      <td>{}</td>\n",
       "      <td>[Prix de vente, 725 000  DH, Frais et charges ...</td>\n",
       "      <td>None</td>\n",
       "      <td>...</td>\n",
       "      <td>None</td>\n",
       "      <td>None</td>\n",
       "      <td>None</td>\n",
       "      <td>None</td>\n",
       "      <td>None</td>\n",
       "      <td>None</td>\n",
       "      <td>None</td>\n",
       "      <td>None</td>\n",
       "      <td>None</td>\n",
       "      <td>None</td>\n",
       "    </tr>\n",
       "    <tr>\n",
       "      <th>133</th>\n",
       "      <td>https://yakeey.com/fr-ma/acheter-appartement-I...</td>\n",
       "      <td>Appartement</td>\n",
       "      <td>2 010 000 DH</td>\n",
       "      <td></td>\n",
       "      <td></td>\n",
       "      <td>Appartement à vendre de 144 m²</td>\n",
       "      <td>II063583</td>\n",
       "      <td>{}</td>\n",
       "      <td>[]</td>\n",
       "      <td>None</td>\n",
       "      <td>...</td>\n",
       "      <td>None</td>\n",
       "      <td>None</td>\n",
       "      <td>None</td>\n",
       "      <td>None</td>\n",
       "      <td>None</td>\n",
       "      <td>None</td>\n",
       "      <td>None</td>\n",
       "      <td>None</td>\n",
       "      <td>None</td>\n",
       "      <td>None</td>\n",
       "    </tr>\n",
       "  </tbody>\n",
       "</table>\n",
       "<p>2 rows × 27 columns</p>\n",
       "</div>"
      ],
      "text/plain": [
       "                                                   url         type  \\\n",
       "88   https://yakeey.com/fr-ma/acheter-appartement-I...  Appartement   \n",
       "133  https://yakeey.com/fr-ma/acheter-appartement-I...  Appartement   \n",
       "\n",
       "            price neighborhood city                           title reference  \\\n",
       "88     725 000 DH                     Appartement à vendre de 64 m²  II063966   \n",
       "133  2 010 000 DH                    Appartement à vendre de 144 m²  II063583   \n",
       "\n",
       "    attributes                                        equipements  \\\n",
       "88          {}  [Prix de vente, 725 000  DH, Frais et charges ...   \n",
       "133         {}                                                 []   \n",
       "\n",
       "    Places de parking extérieur  ... Orientation Surface balcon  \\\n",
       "88                         None  ...        None           None   \n",
       "133                        None  ...        None           None   \n",
       "\n",
       "    Surface box titré Étage du bien Nb. de chambres Nb. de salles d'eau  \\\n",
       "88               None          None            None                None   \n",
       "133              None          None            None                None   \n",
       "\n",
       "    Nb. de façades   Vue Nb. d'étages dans l'immeuble Surface totale  \n",
       "88            None  None                         None           None  \n",
       "133           None  None                         None           None  \n",
       "\n",
       "[2 rows x 27 columns]"
      ]
     },
     "execution_count": 71,
     "metadata": {},
     "output_type": "execute_result"
    }
   ],
   "source": [
    "yakeey_df[yakeey_df[\"Surface totale\"].isnull()]"
   ]
  },
  {
   "cell_type": "markdown",
   "metadata": {},
   "source": [
    "Strangely enough, the rows with the missing values for the city, neighborhood and areas are the same. After checking in the website, it seems that we are dealing with a new type of announcements, and we need to fix the scraping script to handle them."
   ]
  },
  {
   "cell_type": "code",
   "execution_count": 72,
   "metadata": {},
   "outputs": [
    {
     "data": {
      "text/plain": [
       "['1 400  DH',\n",
       " '1 450  DH',\n",
       " '1 500  DH',\n",
       " '1 950 000  DH',\n",
       " '10 500  DH',\n",
       " '10 875  DH',\n",
       " '12 600  DH',\n",
       " '13 050  DH',\n",
       " '132 350  DH',\n",
       " '19 500  DH',\n",
       " '2 117 450  DH',\n",
       " '200  DH',\n",
       " '28 000  DH',\n",
       " '29 000  DH',\n",
       " '29 250  DH',\n",
       " '3 900  DH',\n",
       " '35 100  DH',\n",
       " '48 600  DH',\n",
       " '50 275  DH',\n",
       " '7 000  DH',\n",
       " '7 250  DH',\n",
       " '700 000  DH',\n",
       " '725 000  DH',\n",
       " '761 200  DH',\n",
       " '78 000  DH',\n",
       " '788 325  DH',\n",
       " 'Accès aux personnes à mobilité réduite',\n",
       " 'Agent de sécurité',\n",
       " 'Aire de jeux pour enfants',\n",
       " 'Ascenseur',\n",
       " 'Balcon',\n",
       " 'Box titré',\n",
       " 'Buanderie',\n",
       " 'Certificat de propriété et droits fixes',\n",
       " 'Chambre de service',\n",
       " 'Chauffage centralisé',\n",
       " 'Chauffage électrique',\n",
       " 'Chauffe-eau à gaz',\n",
       " 'Chauffe-eau électrique',\n",
       " 'Cheminée',\n",
       " 'Climatisation centralisée',\n",
       " 'Climatisation split',\n",
       " 'Concierge',\n",
       " 'Cuisine américaine',\n",
       " 'Cuisine équipée',\n",
       " 'Digicode',\n",
       " 'Droits de la Conservation Foncière',\n",
       " 'Droits d’enregistrement',\n",
       " 'Espaces verts',\n",
       " 'Frais de dossiers divers',\n",
       " \"Frais de service à la charge de l'acheteur\",\n",
       " 'Frais et charges d’acquisition',\n",
       " 'Honoraires du notaire (hors taxes)',\n",
       " 'Interphone',\n",
       " 'Jardin privatif',\n",
       " 'Meublé',\n",
       " 'Montant estimé du projet',\n",
       " 'Piscine commune',\n",
       " 'Piscine privative',\n",
       " 'Place de parking en extérieur',\n",
       " 'Place de parking en sous-sol',\n",
       " 'Prix de vente',\n",
       " 'Résidence fermée',\n",
       " 'Salle de fitness',\n",
       " 'Solarium',\n",
       " 'TVA sur honoraires du notaire',\n",
       " 'Terrasse']"
      ]
     },
     "execution_count": 72,
     "metadata": {},
     "output_type": "execute_result"
    }
   ],
   "source": [
    "equipments = set()\n",
    "for equipment in yakeey_df[\"equipements\"]:\n",
    "    if equipment is not None:\n",
    "        equipments.update(equipment)\n",
    "\n",
    "equipment_list = sorted(equipments)\n",
    "equipment_list"
   ]
  },
  {
   "cell_type": "markdown",
   "metadata": {},
   "source": [
    "We notice some values that are invalid, such as some price values, suggesting that an error was made during the scraping process."
   ]
  },
  {
   "cell_type": "markdown",
   "metadata": {},
   "source": [
    "## Conclusion\n",
    "\n",
    "To summarize, we saw that for this specific platform, we don't need to focus on the quality of the data, since it is already very good and we shouldn't be expecting outliers, we only have to be careful with how we handle the missing values. We were also able to identify some issues with the scraping script."
   ]
  }
 ],
 "metadata": {
  "kernelspec": {
   "display_name": ".venv",
   "language": "python",
   "name": "python3"
  },
  "language_info": {
   "codemirror_mode": {
    "name": "ipython",
    "version": 3
   },
   "file_extension": ".py",
   "mimetype": "text/x-python",
   "name": "python",
   "nbconvert_exporter": "python",
   "pygments_lexer": "ipython3",
   "version": "3.11.5"
  }
 },
 "nbformat": 4,
 "nbformat_minor": 2
}
