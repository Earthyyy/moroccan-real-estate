{
 "cells": [
  {
   "cell_type": "markdown",
   "metadata": {},
   "source": [
    "# Yakeey Data\n",
    "\n",
    "This file is for inspecting and exploring data extracted from Yakeey."
   ]
  },
  {
   "cell_type": "code",
   "execution_count": 1,
   "metadata": {},
   "outputs": [],
   "source": [
    "import pandas as pd"
   ]
  },
  {
   "cell_type": "code",
   "execution_count": 2,
   "metadata": {},
   "outputs": [],
   "source": [
    "yakeey_df = pd.read_json(\"../data/raw/yakeey/yakeey_2024-11-14.json\")"
   ]
  },
  {
   "cell_type": "code",
   "execution_count": 3,
   "metadata": {},
   "outputs": [
    {
     "data": {
      "text/html": [
       "<div>\n",
       "<style scoped>\n",
       "    .dataframe tbody tr th:only-of-type {\n",
       "        vertical-align: middle;\n",
       "    }\n",
       "\n",
       "    .dataframe tbody tr th {\n",
       "        vertical-align: top;\n",
       "    }\n",
       "\n",
       "    .dataframe thead th {\n",
       "        text-align: right;\n",
       "    }\n",
       "</style>\n",
       "<table border=\"1\" class=\"dataframe\">\n",
       "  <thead>\n",
       "    <tr style=\"text-align: right;\">\n",
       "      <th></th>\n",
       "      <th>url</th>\n",
       "      <th>type</th>\n",
       "      <th>price</th>\n",
       "      <th>neighborhood</th>\n",
       "      <th>city</th>\n",
       "      <th>title</th>\n",
       "      <th>reference</th>\n",
       "      <th>attributes</th>\n",
       "      <th>equipments</th>\n",
       "    </tr>\n",
       "  </thead>\n",
       "  <tbody>\n",
       "    <tr>\n",
       "      <th>0</th>\n",
       "      <td>https://yakeey.com/fr-ma/acheter-appartement-c...</td>\n",
       "      <td>Appartement</td>\n",
       "      <td>1 750 000 DH</td>\n",
       "      <td>Hopitaux</td>\n",
       "      <td>Casablanca</td>\n",
       "      <td>Appartement à vendre de 126 m² dont 101 m² hab...</td>\n",
       "      <td>CA001095</td>\n",
       "      <td>{'Nb. de chambres': '2', 'Nb. de salles de bai...</td>\n",
       "      <td>[Ascenseur, Balcon, Place de parking en sous-s...</td>\n",
       "    </tr>\n",
       "    <tr>\n",
       "      <th>1</th>\n",
       "      <td>https://yakeey.com/fr-ma/acheter-appartement-c...</td>\n",
       "      <td>Appartement</td>\n",
       "      <td>1 500 000 DH</td>\n",
       "      <td>Lekrimat</td>\n",
       "      <td>Casablanca</td>\n",
       "      <td>Appartement à vendre de 128 m²</td>\n",
       "      <td>CI067647</td>\n",
       "      <td>{'Nb. de chambres': '3', 'Nb. de salles de bai...</td>\n",
       "      <td>[Balcon, Box titré, Cuisine équipée]</td>\n",
       "    </tr>\n",
       "    <tr>\n",
       "      <th>2</th>\n",
       "      <td>https://yakeey.com/fr-ma/acheter-appartement-c...</td>\n",
       "      <td>Appartement</td>\n",
       "      <td>1 800 000 DH</td>\n",
       "      <td>Hopitaux</td>\n",
       "      <td>Casablanca</td>\n",
       "      <td>Appartement à vendre de 133 m²</td>\n",
       "      <td>CI068492</td>\n",
       "      <td>{'Nb. de chambres': '3', 'Nb. de salles de bai...</td>\n",
       "      <td>[Ascenseur, Balcon, Cuisine équipée]</td>\n",
       "    </tr>\n",
       "    <tr>\n",
       "      <th>3</th>\n",
       "      <td>https://yakeey.com/fr-ma/acheter-appartement-s...</td>\n",
       "      <td>Appartement</td>\n",
       "      <td>750 000 DH</td>\n",
       "      <td>Hay safae</td>\n",
       "      <td>Salé</td>\n",
       "      <td>Appartement à vendre de 94 m²</td>\n",
       "      <td>SI067739</td>\n",
       "      <td>{'Nb. de chambres': '1', 'Nb. de salles de bai...</td>\n",
       "      <td>[Cuisine équipée]</td>\n",
       "    </tr>\n",
       "    <tr>\n",
       "      <th>4</th>\n",
       "      <td>https://yakeey.com/fr-ma/acheter-appartement-s...</td>\n",
       "      <td>Appartement</td>\n",
       "      <td>690 000 DH</td>\n",
       "      <td>Hay chmaou</td>\n",
       "      <td>Salé</td>\n",
       "      <td>Appartement à vendre de 82 m²</td>\n",
       "      <td>SI067053</td>\n",
       "      <td>{'Nb. de chambres': '2', 'Nb. de salles de bai...</td>\n",
       "      <td>[Terrasse, Place de parking en sous-sol]</td>\n",
       "    </tr>\n",
       "  </tbody>\n",
       "</table>\n",
       "</div>"
      ],
      "text/plain": [
       "                                                 url         type  \\\n",
       "0  https://yakeey.com/fr-ma/acheter-appartement-c...  Appartement   \n",
       "1  https://yakeey.com/fr-ma/acheter-appartement-c...  Appartement   \n",
       "2  https://yakeey.com/fr-ma/acheter-appartement-c...  Appartement   \n",
       "3  https://yakeey.com/fr-ma/acheter-appartement-s...  Appartement   \n",
       "4  https://yakeey.com/fr-ma/acheter-appartement-s...  Appartement   \n",
       "\n",
       "          price neighborhood        city  \\\n",
       "0  1 750 000 DH     Hopitaux  Casablanca   \n",
       "1  1 500 000 DH     Lekrimat  Casablanca   \n",
       "2  1 800 000 DH     Hopitaux  Casablanca   \n",
       "3    750 000 DH    Hay safae        Salé   \n",
       "4    690 000 DH   Hay chmaou        Salé   \n",
       "\n",
       "                                               title reference  \\\n",
       "0  Appartement à vendre de 126 m² dont 101 m² hab...  CA001095   \n",
       "1                     Appartement à vendre de 128 m²  CI067647   \n",
       "2                     Appartement à vendre de 133 m²  CI068492   \n",
       "3                      Appartement à vendre de 94 m²  SI067739   \n",
       "4                      Appartement à vendre de 82 m²  SI067053   \n",
       "\n",
       "                                          attributes  \\\n",
       "0  {'Nb. de chambres': '2', 'Nb. de salles de bai...   \n",
       "1  {'Nb. de chambres': '3', 'Nb. de salles de bai...   \n",
       "2  {'Nb. de chambres': '3', 'Nb. de salles de bai...   \n",
       "3  {'Nb. de chambres': '1', 'Nb. de salles de bai...   \n",
       "4  {'Nb. de chambres': '2', 'Nb. de salles de bai...   \n",
       "\n",
       "                                          equipments  \n",
       "0  [Ascenseur, Balcon, Place de parking en sous-s...  \n",
       "1               [Balcon, Box titré, Cuisine équipée]  \n",
       "2               [Ascenseur, Balcon, Cuisine équipée]  \n",
       "3                                  [Cuisine équipée]  \n",
       "4           [Terrasse, Place de parking en sous-sol]  "
      ]
     },
     "execution_count": 3,
     "metadata": {},
     "output_type": "execute_result"
    }
   ],
   "source": [
    "yakeey_df.head()"
   ]
  },
  {
   "cell_type": "code",
   "execution_count": 4,
   "metadata": {},
   "outputs": [
    {
     "data": {
      "text/plain": [
       "Index(['url', 'type', 'price', 'neighborhood', 'city', 'title', 'reference',\n",
       "       'attributes', 'equipments'],\n",
       "      dtype='object')"
      ]
     },
     "execution_count": 4,
     "metadata": {},
     "output_type": "execute_result"
    }
   ],
   "source": [
    "yakeey_df.columns"
   ]
  },
  {
   "cell_type": "code",
   "execution_count": 5,
   "metadata": {},
   "outputs": [
    {
     "data": {
      "text/plain": [
       "type\n",
       "Appartement    175\n",
       "Studio           6\n",
       "Duplex           6\n",
       "Triplex          3\n",
       "Name: count, dtype: int64"
      ]
     },
     "execution_count": 5,
     "metadata": {},
     "output_type": "execute_result"
    }
   ],
   "source": [
    "yakeey_df[\"type\"].value_counts()"
   ]
  },
  {
   "cell_type": "markdown",
   "metadata": {},
   "source": [
    "All of these values of `type` refer to appartments, since these are the main types of properties we are working with. We might make a distinction between:\n",
    "- \"Studio\": being a single room appartment\n",
    "- \"Appartment\": being a regular appartment with multiple rooms\n",
    "- \"Duplex/Triplex\": being a two or more story appartment"
   ]
  },
  {
   "cell_type": "code",
   "execution_count": 6,
   "metadata": {},
   "outputs": [
    {
     "data": {
      "text/plain": [
       "0    1 750 000 DH\n",
       "1    1 500 000 DH\n",
       "2    1 800 000 DH\n",
       "3      750 000 DH\n",
       "4      690 000 DH\n",
       "Name: price, dtype: object"
      ]
     },
     "execution_count": 6,
     "metadata": {},
     "output_type": "execute_result"
    }
   ],
   "source": [
    "yakeey_df[\"price\"].head()"
   ]
  },
  {
   "cell_type": "code",
   "execution_count": 7,
   "metadata": {},
   "outputs": [],
   "source": [
    "prices = yakeey_df[\"price\"].str.replace(\"DH\", \"\").str.replace(\" \", \"\").astype(int)"
   ]
  },
  {
   "cell_type": "code",
   "execution_count": 8,
   "metadata": {},
   "outputs": [
    {
     "data": {
      "text/plain": [
       "count         190\n",
       "mean      1805528\n",
       "std       1224030\n",
       "min        500000\n",
       "25%       1054750\n",
       "50%       1478000\n",
       "75%       2100000\n",
       "max      10000000\n",
       "Name: price, dtype: int64"
      ]
     },
     "execution_count": 8,
     "metadata": {},
     "output_type": "execute_result"
    }
   ],
   "source": [
    "prices.describe().astype(int)"
   ]
  },
  {
   "cell_type": "markdown",
   "metadata": {},
   "source": [
    "As mentioned in the scraping module, the quality of the data from Yakeey is very good, due to the fact that every single announcement is manually checked by real estate consultants. This means that we wouldn't need to make any filtering for potential outliers. Even further, we can rely on this data to determine rules for controling quality from other sources."
   ]
  },
  {
   "cell_type": "code",
   "execution_count": 9,
   "metadata": {},
   "outputs": [
    {
     "data": {
      "text/plain": [
       "city\n",
       "Casablanca     145\n",
       "Salé             7\n",
       "Témara           7\n",
       "Tanger           7\n",
       "Dar bouazza      6\n",
       "Rabat            4\n",
       "Mohammédia       4\n",
       "Marrakech        3\n",
       "Bouznika         3\n",
       "Sidi rahal       3\n",
       "Kénitra          1\n",
       "Name: count, dtype: int64"
      ]
     },
     "execution_count": 9,
     "metadata": {},
     "output_type": "execute_result"
    }
   ],
   "source": [
    "yakeey_df[\"city\"].value_counts()"
   ]
  },
  {
   "cell_type": "markdown",
   "metadata": {},
   "source": [
    "`city` contains 2 missing values, it may be useful to fill them with the most common value since they are very rare and the mode is very frequent.\n",
    "We also need to compare the city names for consistency."
   ]
  },
  {
   "cell_type": "code",
   "execution_count": 10,
   "metadata": {},
   "outputs": [
    {
     "data": {
      "text/plain": [
       "neighborhood\n",
       "Hopitaux              11\n",
       "Derb omar             11\n",
       "Maarif                 8\n",
       "Val fleury             8\n",
       "Maarif extension       7\n",
       "                      ..\n",
       "Ain borja              1\n",
       "Racine                 1\n",
       "Bettana                1\n",
       "Quartier allaymoun     1\n",
       "Benmsick               1\n",
       "Name: count, Length: 80, dtype: int64"
      ]
     },
     "execution_count": 10,
     "metadata": {},
     "output_type": "execute_result"
    }
   ],
   "source": [
    "yakeey_df[\"neighborhood\"].value_counts()"
   ]
  },
  {
   "cell_type": "markdown",
   "metadata": {},
   "source": [
    "`title` and `reference` are unique to the platform, `reference` to determine the uniqueness of the announcement for the delta load, we don't need to do anything with them."
   ]
  },
  {
   "cell_type": "code",
   "execution_count": 12,
   "metadata": {},
   "outputs": [
    {
     "data": {
      "text/plain": [
       "0    {'Nb. de chambres': '2', 'Nb. de salles de bai...\n",
       "1    {'Nb. de chambres': '3', 'Nb. de salles de bai...\n",
       "2    {'Nb. de chambres': '3', 'Nb. de salles de bai...\n",
       "3    {'Nb. de chambres': '1', 'Nb. de salles de bai...\n",
       "4    {'Nb. de chambres': '2', 'Nb. de salles de bai...\n",
       "Name: attributes, dtype: object"
      ]
     },
     "execution_count": 12,
     "metadata": {},
     "output_type": "execute_result"
    }
   ],
   "source": [
    "yakeey_df[\"attributes\"].head()"
   ]
  },
  {
   "cell_type": "code",
   "execution_count": 14,
   "metadata": {},
   "outputs": [
    {
     "name": "stdout",
     "output_type": "stream",
     "text": [
      "Nb. de chambres\n",
      "Nb. de salles de bains\n",
      "Places de parking en sous-sol\n",
      "Vue\n",
      "Nb. de façades\n",
      "Frais de syndic (DH/an)\n",
      "Places de parking extérieur\n",
      "Nb. de salles d'eau\n",
      "Orientation\n",
      "Résidence fermée\n",
      "Surface solarium\n",
      "Surface totale\n",
      "Surface box titré\n",
      "Surface habitable\n",
      "Surface terrasse\n",
      "Surface balcon\n",
      "Étage du bien\n",
      "Nb. d'étages dans l'immeuble\n"
     ]
    },
    {
     "data": {
      "text/html": [
       "<div>\n",
       "<style scoped>\n",
       "    .dataframe tbody tr th:only-of-type {\n",
       "        vertical-align: middle;\n",
       "    }\n",
       "\n",
       "    .dataframe tbody tr th {\n",
       "        vertical-align: top;\n",
       "    }\n",
       "\n",
       "    .dataframe thead th {\n",
       "        text-align: right;\n",
       "    }\n",
       "</style>\n",
       "<table border=\"1\" class=\"dataframe\">\n",
       "  <thead>\n",
       "    <tr style=\"text-align: right;\">\n",
       "      <th></th>\n",
       "      <th>url</th>\n",
       "      <th>type</th>\n",
       "      <th>price</th>\n",
       "      <th>neighborhood</th>\n",
       "      <th>city</th>\n",
       "      <th>title</th>\n",
       "      <th>reference</th>\n",
       "      <th>attributes</th>\n",
       "      <th>equipments</th>\n",
       "      <th>Nb. de chambres</th>\n",
       "      <th>...</th>\n",
       "      <th>Orientation</th>\n",
       "      <th>Résidence fermée</th>\n",
       "      <th>Surface solarium</th>\n",
       "      <th>Surface totale</th>\n",
       "      <th>Surface box titré</th>\n",
       "      <th>Surface habitable</th>\n",
       "      <th>Surface terrasse</th>\n",
       "      <th>Surface balcon</th>\n",
       "      <th>Étage du bien</th>\n",
       "      <th>Nb. d'étages dans l'immeuble</th>\n",
       "    </tr>\n",
       "  </thead>\n",
       "  <tbody>\n",
       "    <tr>\n",
       "      <th>0</th>\n",
       "      <td>https://yakeey.com/fr-ma/acheter-appartement-c...</td>\n",
       "      <td>Appartement</td>\n",
       "      <td>1 750 000 DH</td>\n",
       "      <td>Hopitaux</td>\n",
       "      <td>Casablanca</td>\n",
       "      <td>Appartement à vendre de 126 m² dont 101 m² hab...</td>\n",
       "      <td>CA001095</td>\n",
       "      <td>{'Nb. de chambres': '2', 'Nb. de salles de bai...</td>\n",
       "      <td>[Ascenseur, Balcon, Place de parking en sous-s...</td>\n",
       "      <td>2</td>\n",
       "      <td>...</td>\n",
       "      <td>Ouest, Sud-Ouest</td>\n",
       "      <td>None</td>\n",
       "      <td>None</td>\n",
       "      <td>126 m²</td>\n",
       "      <td>None</td>\n",
       "      <td>101 m²</td>\n",
       "      <td>None</td>\n",
       "      <td>8 m²</td>\n",
       "      <td>5</td>\n",
       "      <td>5</td>\n",
       "    </tr>\n",
       "    <tr>\n",
       "      <th>1</th>\n",
       "      <td>https://yakeey.com/fr-ma/acheter-appartement-c...</td>\n",
       "      <td>Appartement</td>\n",
       "      <td>1 500 000 DH</td>\n",
       "      <td>Lekrimat</td>\n",
       "      <td>Casablanca</td>\n",
       "      <td>Appartement à vendre de 128 m²</td>\n",
       "      <td>CI067647</td>\n",
       "      <td>{'Nb. de chambres': '3', 'Nb. de salles de bai...</td>\n",
       "      <td>[Balcon, Box titré, Cuisine équipée]</td>\n",
       "      <td>3</td>\n",
       "      <td>...</td>\n",
       "      <td>None</td>\n",
       "      <td>None</td>\n",
       "      <td>None</td>\n",
       "      <td>128 m²</td>\n",
       "      <td>None</td>\n",
       "      <td>128 m²</td>\n",
       "      <td>None</td>\n",
       "      <td>None</td>\n",
       "      <td>4</td>\n",
       "      <td>4</td>\n",
       "    </tr>\n",
       "    <tr>\n",
       "      <th>2</th>\n",
       "      <td>https://yakeey.com/fr-ma/acheter-appartement-c...</td>\n",
       "      <td>Appartement</td>\n",
       "      <td>1 800 000 DH</td>\n",
       "      <td>Hopitaux</td>\n",
       "      <td>Casablanca</td>\n",
       "      <td>Appartement à vendre de 133 m²</td>\n",
       "      <td>CI068492</td>\n",
       "      <td>{'Nb. de chambres': '3', 'Nb. de salles de bai...</td>\n",
       "      <td>[Ascenseur, Balcon, Cuisine équipée]</td>\n",
       "      <td>3</td>\n",
       "      <td>...</td>\n",
       "      <td>None</td>\n",
       "      <td>None</td>\n",
       "      <td>None</td>\n",
       "      <td>133 m²</td>\n",
       "      <td>None</td>\n",
       "      <td>133 m²</td>\n",
       "      <td>None</td>\n",
       "      <td>None</td>\n",
       "      <td>4</td>\n",
       "      <td>6</td>\n",
       "    </tr>\n",
       "    <tr>\n",
       "      <th>3</th>\n",
       "      <td>https://yakeey.com/fr-ma/acheter-appartement-s...</td>\n",
       "      <td>Appartement</td>\n",
       "      <td>750 000 DH</td>\n",
       "      <td>Hay safae</td>\n",
       "      <td>Salé</td>\n",
       "      <td>Appartement à vendre de 94 m²</td>\n",
       "      <td>SI067739</td>\n",
       "      <td>{'Nb. de chambres': '1', 'Nb. de salles de bai...</td>\n",
       "      <td>[Cuisine équipée]</td>\n",
       "      <td>1</td>\n",
       "      <td>...</td>\n",
       "      <td>None</td>\n",
       "      <td>None</td>\n",
       "      <td>None</td>\n",
       "      <td>94 m²</td>\n",
       "      <td>None</td>\n",
       "      <td>94 m²</td>\n",
       "      <td>None</td>\n",
       "      <td>None</td>\n",
       "      <td>1</td>\n",
       "      <td>1</td>\n",
       "    </tr>\n",
       "    <tr>\n",
       "      <th>4</th>\n",
       "      <td>https://yakeey.com/fr-ma/acheter-appartement-s...</td>\n",
       "      <td>Appartement</td>\n",
       "      <td>690 000 DH</td>\n",
       "      <td>Hay chmaou</td>\n",
       "      <td>Salé</td>\n",
       "      <td>Appartement à vendre de 82 m²</td>\n",
       "      <td>SI067053</td>\n",
       "      <td>{'Nb. de chambres': '2', 'Nb. de salles de bai...</td>\n",
       "      <td>[Terrasse, Place de parking en sous-sol]</td>\n",
       "      <td>2</td>\n",
       "      <td>...</td>\n",
       "      <td>None</td>\n",
       "      <td>None</td>\n",
       "      <td>None</td>\n",
       "      <td>82 m²</td>\n",
       "      <td>None</td>\n",
       "      <td>82 m²</td>\n",
       "      <td>None</td>\n",
       "      <td>None</td>\n",
       "      <td>Rez-de-chaussée</td>\n",
       "      <td>1</td>\n",
       "    </tr>\n",
       "  </tbody>\n",
       "</table>\n",
       "<p>5 rows × 27 columns</p>\n",
       "</div>"
      ],
      "text/plain": [
       "                                                 url         type  \\\n",
       "0  https://yakeey.com/fr-ma/acheter-appartement-c...  Appartement   \n",
       "1  https://yakeey.com/fr-ma/acheter-appartement-c...  Appartement   \n",
       "2  https://yakeey.com/fr-ma/acheter-appartement-c...  Appartement   \n",
       "3  https://yakeey.com/fr-ma/acheter-appartement-s...  Appartement   \n",
       "4  https://yakeey.com/fr-ma/acheter-appartement-s...  Appartement   \n",
       "\n",
       "          price neighborhood        city  \\\n",
       "0  1 750 000 DH     Hopitaux  Casablanca   \n",
       "1  1 500 000 DH     Lekrimat  Casablanca   \n",
       "2  1 800 000 DH     Hopitaux  Casablanca   \n",
       "3    750 000 DH    Hay safae        Salé   \n",
       "4    690 000 DH   Hay chmaou        Salé   \n",
       "\n",
       "                                               title reference  \\\n",
       "0  Appartement à vendre de 126 m² dont 101 m² hab...  CA001095   \n",
       "1                     Appartement à vendre de 128 m²  CI067647   \n",
       "2                     Appartement à vendre de 133 m²  CI068492   \n",
       "3                      Appartement à vendre de 94 m²  SI067739   \n",
       "4                      Appartement à vendre de 82 m²  SI067053   \n",
       "\n",
       "                                          attributes  \\\n",
       "0  {'Nb. de chambres': '2', 'Nb. de salles de bai...   \n",
       "1  {'Nb. de chambres': '3', 'Nb. de salles de bai...   \n",
       "2  {'Nb. de chambres': '3', 'Nb. de salles de bai...   \n",
       "3  {'Nb. de chambres': '1', 'Nb. de salles de bai...   \n",
       "4  {'Nb. de chambres': '2', 'Nb. de salles de bai...   \n",
       "\n",
       "                                          equipments Nb. de chambres  ...  \\\n",
       "0  [Ascenseur, Balcon, Place de parking en sous-s...               2  ...   \n",
       "1               [Balcon, Box titré, Cuisine équipée]               3  ...   \n",
       "2               [Ascenseur, Balcon, Cuisine équipée]               3  ...   \n",
       "3                                  [Cuisine équipée]               1  ...   \n",
       "4           [Terrasse, Place de parking en sous-sol]               2  ...   \n",
       "\n",
       "        Orientation Résidence fermée Surface solarium Surface totale  \\\n",
       "0  Ouest, Sud-Ouest             None             None         126 m²   \n",
       "1              None             None             None         128 m²   \n",
       "2              None             None             None         133 m²   \n",
       "3              None             None             None          94 m²   \n",
       "4              None             None             None          82 m²   \n",
       "\n",
       "  Surface box titré Surface habitable Surface terrasse Surface balcon  \\\n",
       "0              None            101 m²             None           8 m²   \n",
       "1              None            128 m²             None           None   \n",
       "2              None            133 m²             None           None   \n",
       "3              None             94 m²             None           None   \n",
       "4              None             82 m²             None           None   \n",
       "\n",
       "     Étage du bien Nb. d'étages dans l'immeuble  \n",
       "0                5                            5  \n",
       "1                4                            4  \n",
       "2                4                            6  \n",
       "3                1                            1  \n",
       "4  Rez-de-chaussée                            1  \n",
       "\n",
       "[5 rows x 27 columns]"
      ]
     },
     "execution_count": 14,
     "metadata": {},
     "output_type": "execute_result"
    }
   ],
   "source": [
    "attributes_keys = set()\n",
    "for attribute in yakeey_df[\"attributes\"]:\n",
    "    if attribute is not None:\n",
    "        attributes_keys.update(attribute.keys())\n",
    "\n",
    "for attribute_key in attributes_keys:\n",
    "    print(attribute_key)  # noqa: T201\n",
    "    yakeey_df[attribute_key] = yakeey_df[\"attributes\"].apply(\n",
    "        lambda x, key=attribute_key: x.get(key, None)\n",
    "    )\n",
    "\n",
    "yakeey_df.head()"
   ]
  },
  {
   "cell_type": "markdown",
   "metadata": {},
   "source": [
    "We see already that many of these attributes don't exist in the other sources, for simplicity we will keep the following:\n",
    "- `Nb. de salles de bains`\n",
    "- `Surface habitable`\n",
    "- `Étage du bien`\n",
    "- `Nb. de chambres`\n",
    "- `Nb. de salles d'eau`\n",
    "- `Surface totale`"
   ]
  },
  {
   "cell_type": "code",
   "execution_count": 15,
   "metadata": {},
   "outputs": [
    {
     "data": {
      "text/plain": [
       "Nb. de salles d'eau\n",
       "1    48\n",
       "2    10\n",
       "3     3\n",
       "Name: count, dtype: int64"
      ]
     },
     "execution_count": 15,
     "metadata": {},
     "output_type": "execute_result"
    }
   ],
   "source": [
    "yakeey_df[\"Nb. de salles d'eau\"].value_counts()"
   ]
  },
  {
   "cell_type": "code",
   "execution_count": 16,
   "metadata": {},
   "outputs": [
    {
     "data": {
      "text/plain": [
       "Nb. de salles de bains\n",
       "2    104\n",
       "1     64\n",
       "3     18\n",
       "4      2\n",
       "6      1\n",
       "Name: count, dtype: int64"
      ]
     },
     "execution_count": 16,
     "metadata": {},
     "output_type": "execute_result"
    }
   ],
   "source": [
    "yakeey_df[\"Nb. de salles de bains\"].value_counts()"
   ]
  },
  {
   "cell_type": "markdown",
   "metadata": {},
   "source": [
    "For simplicity, we can further only keep `Nb. de salles d'eau`, which corresponds to the number of bathrooms."
   ]
  },
  {
   "cell_type": "code",
   "execution_count": 17,
   "metadata": {},
   "outputs": [
    {
     "data": {
      "text/plain": [
       "count    190\n",
       "mean     124\n",
       "std       76\n",
       "min       43\n",
       "25%       87\n",
       "50%      109\n",
       "75%      138\n",
       "max      705\n",
       "Name: Surface habitable, dtype: int64"
      ]
     },
     "execution_count": 17,
     "metadata": {},
     "output_type": "execute_result"
    }
   ],
   "source": [
    "living_areas = (yakeey_df.loc[yakeey_df[\"Surface habitable\"].notnull(), \"Surface habitable\"]  # noqa: E501\n",
    "                .str.replace(\" m²\", \"\").astype(int))\n",
    "living_areas.describe().astype(int)"
   ]
  },
  {
   "cell_type": "markdown",
   "metadata": {},
   "source": [
    "Be careful with the missing values."
   ]
  },
  {
   "cell_type": "code",
   "execution_count": 18,
   "metadata": {},
   "outputs": [
    {
     "data": {
      "text/plain": [
       "Étage du bien\n",
       "1                  36\n",
       "3                  34\n",
       "4                  32\n",
       "2                  28\n",
       "5                  26\n",
       "Rez-de-chaussée    19\n",
       "7                   6\n",
       "6                   4\n",
       "Rez-de-jardin       2\n",
       "9                   1\n",
       "8                   1\n",
       "12                  1\n",
       "Name: count, dtype: int64"
      ]
     },
     "execution_count": 18,
     "metadata": {},
     "output_type": "execute_result"
    }
   ],
   "source": [
    "yakeey_df[\"Étage du bien\"].value_counts()"
   ]
  },
  {
   "cell_type": "code",
   "execution_count": 19,
   "metadata": {},
   "outputs": [
    {
     "data": {
      "text/plain": [
       "Nb. de chambres\n",
       "3    88\n",
       "2    67\n",
       "4    21\n",
       "1    11\n",
       "6     1\n",
       "7     1\n",
       "5     1\n",
       "Name: count, dtype: int64"
      ]
     },
     "execution_count": 19,
     "metadata": {},
     "output_type": "execute_result"
    }
   ],
   "source": [
    "yakeey_df[\"Nb. de chambres\"].value_counts()"
   ]
  },
  {
   "cell_type": "code",
   "execution_count": 22,
   "metadata": {},
   "outputs": [
    {
     "data": {
      "text/plain": [
       "['Accès aux personnes à mobilité réduite',\n",
       " 'Agent de sécurité',\n",
       " 'Aire de jeux pour enfants',\n",
       " 'Ascenseur',\n",
       " 'Balcon',\n",
       " 'Box titré',\n",
       " 'Buanderie',\n",
       " 'Chambre de service',\n",
       " 'Chauffage centralisé',\n",
       " 'Chauffage électrique',\n",
       " 'Chauffe-eau à gaz',\n",
       " 'Chauffe-eau électrique',\n",
       " 'Cheminée',\n",
       " 'Climatisation centralisée',\n",
       " 'Climatisation split',\n",
       " 'Concierge',\n",
       " 'Cuisine américaine',\n",
       " 'Cuisine équipée',\n",
       " 'Digicode',\n",
       " 'Espaces verts',\n",
       " 'Interphone',\n",
       " 'Jardin privatif',\n",
       " 'Meublé',\n",
       " 'Piscine commune',\n",
       " 'Piscine privative',\n",
       " 'Place de parking en extérieur',\n",
       " 'Place de parking en sous-sol',\n",
       " 'Résidence fermée',\n",
       " 'Salle de fitness',\n",
       " 'Solarium',\n",
       " 'Terrasse']"
      ]
     },
     "execution_count": 22,
     "metadata": {},
     "output_type": "execute_result"
    }
   ],
   "source": [
    "equipments = set()\n",
    "for equipment in yakeey_df[\"equipments\"]:\n",
    "    if equipment is not None:\n",
    "        equipments.update(equipment)\n",
    "\n",
    "equipment_list = sorted(equipments)\n",
    "equipment_list"
   ]
  },
  {
   "cell_type": "markdown",
   "metadata": {},
   "source": [
    "## Conclusion\n",
    "\n",
    "To summarize, we saw that for this specific platform, we don't need to focus on the quality of the data, since it is already very good and we shouldn't be expecting outliers, we only have to be careful with how we handle the missing values. We were also able to identify some issues with the scraping script."
   ]
  }
 ],
 "metadata": {
  "kernelspec": {
   "display_name": ".venv",
   "language": "python",
   "name": "python3"
  },
  "language_info": {
   "codemirror_mode": {
    "name": "ipython",
    "version": 3
   },
   "file_extension": ".py",
   "mimetype": "text/x-python",
   "name": "python",
   "nbconvert_exporter": "python",
   "pygments_lexer": "ipython3",
   "version": "3.11.5"
  }
 },
 "nbformat": 4,
 "nbformat_minor": 2
}
